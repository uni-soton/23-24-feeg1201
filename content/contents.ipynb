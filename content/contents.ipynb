{
 "cells": [
  {
   "cell_type": "markdown",
   "id": "b6f45416-682b-45d9-a634-68aea2bf9474",
   "metadata": {},
   "source": [
    "# FEEG1201, Computing, JupyterLite\n",
    "\n",
    "## Table of contents\n",
    "\n",
    "## Notebooks of the lecture notes, FEEG1201, Python\n",
    "\n",
    "- as available on blackboard\n",
    "- as used in pre-lecture videos\n",
    "- available from this contents file: [lecturenotes/contents.ipynb](lecturenotes/contents.ipynb) \n",
    "- or double click the `lecturenotes` folder on the left\n",
    "\n",
    "## Notebooks and little programs from live lectures\n",
    "\n",
    "- as shown / developed in live lectures\n",
    "- double click `live-lectures` folder on the left\n",
    "\n",
    "\n",
    "## Additional reference material\n",
    "\n",
    "- Overview of Matplotlib functionality in [matplotlib.ipynb](matplotlib.ipynb)."
   ]
  },
  {
   "cell_type": "markdown",
   "id": "6dc867d5",
   "metadata": {},
   "source": [
    "-----------"
   ]
  },
  {
   "cell_type": "markdown",
   "id": "8bf0b77f",
   "metadata": {},
   "source": [
    "## About this document\n",
    "\n",
    "You can find this page at https://uni-soton.github.io/23-24-feeg1201/lab/?path=contents.ipynb\n",
    "\n",
    "### What can I do here?\n",
    "\n",
    "- navigate jupyterlab in the browser\n",
    "- no installation of software is required (everything is executed in the browser, and downloaded from the webpage)\n",
    "- explore lecture notes, little programs from the live lectures, and the matplotlib reference (see above)\n",
    "\n",
    "### Technical information\n",
    "\n",
    "- This site uses a new technology called [JupyterLite](https://jupyterlite.readthedocs.io/en/stable/)."
   ]
  }
 ],
 "metadata": {
  "kernelspec": {
   "display_name": "Python 3 (ipykernel)",
   "language": "python",
   "name": "python3"
  },
  "language_info": {
   "codemirror_mode": {
    "name": "ipython",
    "version": 3
   },
   "file_extension": ".py",
   "mimetype": "text/x-python",
   "name": "python",
   "nbconvert_exporter": "python",
   "pygments_lexer": "ipython3",
   "version": "3.10.2"
  }
 },
 "nbformat": 4,
 "nbformat_minor": 5
}
