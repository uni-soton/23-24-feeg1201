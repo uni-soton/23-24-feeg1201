{
 "cells": [
  {
   "cell_type": "markdown",
   "id": "81bbbdb1-f9a8-4238-89dd-3a99e24c0e4f",
   "metadata": {},
   "source": [
    "# Table of contents\n",
    "\n",
    "## Notebooks of the lecture notes\n",
    "\n",
    "- as available on blackboard\n",
    "- as used in pre-lecture videos\n",
    "- available from this contents file: [lecturenotes/contents.ipynb](lecturenotes/contents.ipynb) \n",
    "- or double click the `lecturenotes` folder on the left\n",
    "\n",
    "## Notebooks and little programs from live lectures\n",
    "\n",
    "- as shown / developed in live lectures\n",
    "- double click `live-lectures` folder on the left\n"
   ]
  },
  {
   "cell_type": "code",
   "execution_count": null,
   "id": "1bf45837-41c8-4496-bbe4-65de3e0300e8",
   "metadata": {},
   "outputs": [],
   "source": []
  }
 ],
 "metadata": {
  "kernelspec": {
   "display_name": "Python 3 (ipykernel)",
   "language": "python",
   "name": "python3"
  },
  "language_info": {
   "codemirror_mode": {
    "name": "ipython",
    "version": 3
   },
   "file_extension": ".py",
   "mimetype": "text/x-python",
   "name": "python",
   "nbconvert_exporter": "python",
   "pygments_lexer": "ipython3",
   "version": "3.10.0"
  }
 },
 "nbformat": 4,
 "nbformat_minor": 5
}
