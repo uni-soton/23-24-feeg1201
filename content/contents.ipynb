{
 "cells": [
  {
   "cell_type": "markdown",
   "id": "b6f45416-682b-45d9-a634-68aea2bf9474",
   "metadata": {},
   "source": [
    "# Table of contents\n",
    "\n",
    "## Notebooks of the lecture notes\n",
    "\n",
    "- as available on blackboard\n",
    "- as used in pre-lecture videos\n",
    "- available from this contents file: [lecturenotes/contents.ipynb](lecturenotes/contents.ipynb) \n",
    "- or double click the `lecturenotes` folder on the left"
   ]
  },
  {
   "cell_type": "markdown",
   "id": "2c240505-c524-4815-aa97-769f1c66c4ea",
   "metadata": {},
   "source": [
    "## Notebooks and little programs from live lectures\n",
    "\n",
    "- as shown / developed in live lectures\n",
    "- double click `live-lectures` folder on the left\n",
    "- Up to lecture 7, these are just Python files. If you want to use those files:\n",
    "  1. Open a new jupyter notebook in the `live-lectures` folder (`File -> New -> Notebook -> Python3 (ipykernel)`)\n",
    "  2. Use the `%load FILENAME.PY` magic to load the contents of a python program into a cell in the Jupyter notebook."
   ]
  },
  {
   "cell_type": "markdown",
   "id": "1449569d-0beb-4e2e-be8e-44a7626c8c4d",
   "metadata": {},
   "source": [
    "## Additional reference material\n",
    "\n",
    "(to be added)."
   ]
  }
 ],
 "metadata": {
  "kernelspec": {
   "display_name": "Python 3 (ipykernel)",
   "language": "python",
   "name": "python3"
  },
  "language_info": {
   "codemirror_mode": {
    "name": "ipython",
    "version": 3
   },
   "file_extension": ".py",
   "mimetype": "text/x-python",
   "name": "python",
   "nbconvert_exporter": "python",
   "pygments_lexer": "ipython3",
   "version": "3.10.0"
  }
 },
 "nbformat": 4,
 "nbformat_minor": 5
}
