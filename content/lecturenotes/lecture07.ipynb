{
 "cells": [
  {
   "cell_type": "markdown",
   "metadata": {},
   "source": [
    "---"
   ]
  },
  {
   "cell_type": "markdown",
   "metadata": {},
   "source": [
    "# Lecture 7"
   ]
  },
  {
   "cell_type": "markdown",
   "metadata": {},
   "source": [
    "---"
   ]
  },
  {
   "cell_type": "markdown",
   "metadata": {},
   "source": [
    "- [**1. Plotting with Pylab/Matplotlib**](#1.-Plotting-with-Pylab/Matplotlib)\n",
    "\n",
    "\n",
    "- [**2. Numerical derivatives**](#2.-Numerical-derivatives)\n",
    "\n",
    "    - [**2.1. Example of function differentiation**](#2.1.-Example-of-function-differentiation)\n",
    "    - [**2.2. Comparison with numerical derivatives**](#2.2.-Comparison-with-numerical-derivatives)\n",
    "\n",
    "\n",
    "- [**3. Root finding**](#3.-Root-finding)\n",
    "\n",
    "    - [**3.1. The bisection algorithm**](#3.1.-The-bisection-algorithm)\n",
    "    - [**3.2. The Newton algorithm**](#3.2.-The-Newton-algorithm)\n",
    "    "
   ]
  },
  {
   "cell_type": "markdown",
   "metadata": {},
   "source": [
    "---"
   ]
  },
  {
   "cell_type": "markdown",
   "metadata": {},
   "source": [
    "## 1. Plotting with Matplotlib / Pylab"
   ]
  },
  {
   "cell_type": "markdown",
   "metadata": {},
   "source": [
    "- Matplotlib tries to make easy things easy and hard things possible\n",
    "\n",
    "\n",
    "- Matplotlib is a  2D plotting library which produces publication quality figures (and also 3D)\n",
    "\n",
    "\n",
    "- Matplotlib can be fully scripted but interactive interface is available\n"
   ]
  },
  {
   "cell_type": "code",
   "execution_count": 1,
   "metadata": {},
   "outputs": [],
   "source": [
    "import pylab\n",
    "import matplotlib.pyplot as plt  # we'll use this later"
   ]
  },
  {
   "cell_type": "code",
   "execution_count": 2,
   "metadata": {},
   "outputs": [],
   "source": [
    "x = [0, 1, 2, 3, 4]            # list of elements x"
   ]
  },
  {
   "cell_type": "code",
   "execution_count": 3,
   "metadata": {},
   "outputs": [],
   "source": [
    "y = [0, 0.1, 0.2, 0.3, 0.4]    # list of elements y"
   ]
  },
  {
   "cell_type": "code",
   "execution_count": 4,
   "metadata": {},
   "outputs": [
    {
     "data": {
      "image/png": "[encoded data removed]",
      "text/plain": [
       "<Figure size 432x288 with 1 Axes>"
      ]
     },
     "metadata": {
      "needs_background": "light"
     },
     "output_type": "display_data"
    }
   ],
   "source": [
    "pylab.plot(x, y)      # plot the data\n",
    "pylab.show()          # show the plot (use at the end)"
   ]
  },
  {
   "cell_type": "markdown",
   "metadata": {},
   "source": [
    "- The `plot` command generates the plot of the data as shown. "
   ]
  },
  {
   "cell_type": "code",
   "execution_count": 5,
   "metadata": {},
   "outputs": [
    {
     "data": {
      "image/png": "[encoded data removed]",
      "text/plain": [
       "<Figure size 432x288 with 1 Axes>"
      ]
     },
     "metadata": {
      "needs_background": "light"
     },
     "output_type": "display_data"
    }
   ],
   "source": [
    "pylab.plot(x, y, 'o')\n",
    "pylab.show()"
   ]
  },
  {
   "cell_type": "markdown",
   "metadata": {},
   "source": [
    "- Can also annotate axes"
   ]
  },
  {
   "cell_type": "code",
   "execution_count": 6,
   "metadata": {},
   "outputs": [
    {
     "data": {
      "image/png": "[encoded data removed]",
      "text/plain": [
       "<Figure size 432x288 with 1 Axes>"
      ]
     },
     "metadata": {
      "needs_background": "light"
     },
     "output_type": "display_data"
    }
   ],
   "source": [
    "pylab.plot(x, y, 'o')\n",
    "pylab.xlabel('x')\n",
    "pylab.ylabel('y')\n",
    "pylab.show()"
   ]
  },
  {
   "cell_type": "markdown",
   "metadata": {},
   "source": [
    "### 1.1. Matplotlib figures: inline or as separate window"
   ]
  },
  {
   "cell_type": "markdown",
   "metadata": {},
   "source": [
    "Within the IPython console (for example in Spyder) and the Jupyter Notebook, use:\n",
    "\n",
    "- `%matplotlib inline` to see plots inside the console window, \n",
    "\n",
    "- `%matplotlib auto` to create pop-up windows with the plot when the `matplotlib.show()` command is used.\n",
    "\n",
    "- we can manipulate the view interactivelly in that window\n",
    "\n",
    "In Jupyter notebooks, use `%matplotlib notebook` to get interactive control of the figure."
   ]
  },
  {
   "cell_type": "markdown",
   "metadata": {},
   "source": [
    "### 1.2. Pylab and Matplotlib"
   ]
  },
  {
   "cell_type": "markdown",
   "metadata": {},
   "source": [
    "__Pylab__ \n",
    "\n",
    "\n",
    "- a Matlab-like (state-driven) plotting interface (and comes with matplolib)\n",
    "\n",
    "\n",
    "- convenient for 'simple' plots\n",
    "\n",
    "\n",
    "- make use of `help(pylab.plot)` to remind you of line styles, symbols etc.\n",
    "\n",
    "\n",
    "- check gallery at: http://matplotlib.org/gallery\n",
    "\n",
    "\n",
    "__Matplotlib.pyplot__ \n",
    "\n",
    "\n",
    "- an object oriented plotting interface\n",
    "\n",
    "\n",
    "- very fine grained control over plots\n",
    "\n",
    "\n",
    "- check gallery at: http://matplotlib.org/gallery\n",
    "\n",
    "\n",
    "- Try Matplotlib notebook (on module's home page) as an introduction and useful reference"
   ]
  },
  {
   "cell_type": "markdown",
   "metadata": {},
   "source": [
    "---"
   ]
  },
  {
   "cell_type": "markdown",
   "metadata": {
    "collapsed": true
   },
   "source": [
    "## 2. Numerical derivatives"
   ]
  },
  {
   "cell_type": "markdown",
   "metadata": {},
   "source": [
    "- Motivation:\n",
    "  - We need derivatives of functions for some optimisation and root finding algorithms\n",
    "  - Not always is the function analytically known (but we are usually able to compute the function numerically)\n",
    "  - The material presented here forms the basis of the finite-difference technique that is commonly used to solve ordinary and partial differential equations."
   ]
  },
  {
   "cell_type": "markdown",
   "metadata": {},
   "source": [
    "1. Definition of __forward difference__ numerical derivative:\n",
    "\n",
    "  $$f'(x) = \\frac{df}{dx}(x) = \\lim\\limits_{h\\rightarrow 0}\n",
    "  \\frac{f(x+h) - f(x)}{h} \\approx\\frac{f(x+h) - f(x)}{h}$$<br>\n",
    "\n",
    "  - we can now compute _an approximation_ of $f{\\, }'$ simply by evaluating $f$\n",
    "\n",
    "  - this is called the forward difference because we use $f(x)$ and $f(x+h)$\n",
    "  \n",
    "  - the error we make is of the order of ${\\cal O}(h)$<br><br>\n",
    "\n",
    "2. Definition of __backward difference__ numerical derivative:\n",
    "\n",
    "  $$f'(x) = \\frac{df}{dx}(x) = \\lim\\limits_{h\\rightarrow 0} \n",
    "  \\frac{f(x) - f(x-h)}{h} \\approx\\frac{f(x) - f(x-h)}{h}$$<br>\n",
    "\n",
    "  - this is called the backward difference because we use $f(x)$ and $f(x-h)$\n",
    "  \n",
    "  - the error we make is of the order of ${\\cal O}(h)$<br><br>\n",
    "\n",
    "3. Definition of __central difference__ numerical derivative:\n",
    "\n",
    "  $$f'(x) = \\frac{df}{dx}(x) = \\lim\\limits_{h\\rightarrow 0} \n",
    "  \\frac{f(x+h) - f(x-h)}{2h} \\approx\\frac{f(x+h) - f(x-h)}{2h}$$<br>\n",
    "\n",
    "  - this is called the central difference because we $f(x+h)$ and $f(x-h)$\n",
    "  - the error we make is of the order of ${\\cal O}(h^2)$, thus _the central difference method is the most accurate_\n",
    "  "
   ]
  },
  {
   "cell_type": "markdown",
   "metadata": {},
   "source": [
    "### 2.1. Example of function differentiation"
   ]
  },
  {
   "cell_type": "markdown",
   "metadata": {},
   "source": [
    "Consider function:\n",
    "\n",
    "$f(x) = x^2(x-2)$"
   ]
  },
  {
   "cell_type": "code",
   "execution_count": 7,
   "metadata": {},
   "outputs": [],
   "source": [
    "def f(x):\n",
    "    \"\"\"returns f(x)=x^3-2x^2. Has roots at\n",
    "    x=0 (double root) and x=2\"\"\"\n",
    "    return x ** 3 - 2 * x ** 2"
   ]
  },
  {
   "cell_type": "markdown",
   "metadata": {},
   "source": [
    "The analytical derivative is:\n",
    "\n",
    "  $f'(x) = 3x^2 - 4x$"
   ]
  },
  {
   "cell_type": "code",
   "execution_count": 8,
   "metadata": {},
   "outputs": [],
   "source": [
    "def fprime(x):\n",
    "    \"\"\"returns f'(x)=3x^2-4x\"\"\"\n",
    "    return 3 * x ** 2 - 4 * x"
   ]
  },
  {
   "cell_type": "markdown",
   "metadata": {},
   "source": [
    "- Plot both $f(x)$ and $f'(x)$ in the interval from $x_0=-1$ to $x_n = 2.5$ assuming step $dx = 0.1$:"
   ]
  },
  {
   "cell_type": "code",
   "execution_count": 9,
   "metadata": {},
   "outputs": [],
   "source": [
    "x0 = -1.0  # interval starting point\n",
    "xn = 2.5   # interval last point\n",
    "dx = 0.1   # step"
   ]
  },
  {
   "cell_type": "code",
   "execution_count": 10,
   "metadata": {},
   "outputs": [],
   "source": [
    "N = int((xn-x0)/dx)   # number of points in the interval"
   ]
  },
  {
   "cell_type": "code",
   "execution_count": 11,
   "metadata": {},
   "outputs": [],
   "source": [
    "x = [(xn-x0)/(N-1)*i + x0 for i in range(N)]  # use list comprehension to generate x"
   ]
  },
  {
   "cell_type": "code",
   "execution_count": 12,
   "metadata": {},
   "outputs": [],
   "source": [
    "y = [f(x[i]) for i in range(len(x))]  # use list to comprehension to generate y"
   ]
  },
  {
   "cell_type": "code",
   "execution_count": 13,
   "metadata": {},
   "outputs": [],
   "source": [
    "yprime = [fprime(x[i]) for i in range(len(x))]"
   ]
  },
  {
   "cell_type": "code",
   "execution_count": 14,
   "metadata": {},
   "outputs": [
    {
     "data": {
      "image/png": "[encoded data removed]",
      "text/plain": [
       "<Figure size 432x288 with 1 Axes>"
      ]
     },
     "metadata": {
      "needs_background": "light"
     },
     "output_type": "display_data"
    }
   ],
   "source": [
    "fig, ax = plt.subplots()\n",
    "ax.plot(x, y, 'g--', label='f(x)')  # green dashed line\n",
    "ax.plot(x, yprime, 'c-', label=\"f'(x)\")  # cyan solid line\n",
    "ax.set_xlabel('x')  # label for x-axis\n",
    "ax.legend()      \n",
    "ax.grid(True)  # turn on grid"
   ]
  },
  {
   "cell_type": "markdown",
   "metadata": {},
   "source": [
    "- we can also use NumPy"
   ]
  },
  {
   "cell_type": "code",
   "execution_count": 15,
   "metadata": {},
   "outputs": [],
   "source": [
    "import numpy"
   ]
  },
  {
   "cell_type": "code",
   "execution_count": 16,
   "metadata": {},
   "outputs": [],
   "source": [
    "x0 = -1.0  # interval starting point\n",
    "xn = 2.5   # interval last point\n",
    "dx = 0.1   # step"
   ]
  },
  {
   "cell_type": "code",
   "execution_count": 17,
   "metadata": {},
   "outputs": [],
   "source": [
    "x = numpy.arange(x0, xn, dx)  # array of points in the interval"
   ]
  },
  {
   "cell_type": "code",
   "execution_count": 18,
   "metadata": {},
   "outputs": [],
   "source": [
    "y = f(x)  # function values over the array x"
   ]
  },
  {
   "cell_type": "code",
   "execution_count": 19,
   "metadata": {},
   "outputs": [],
   "source": [
    "yprime = fprime(x)  # function derivative values over the array x"
   ]
  },
  {
   "cell_type": "code",
   "execution_count": 20,
   "metadata": {},
   "outputs": [
    {
     "data": {
      "image/png": "[encoded data removed]",
      "text/plain": [
       "<Figure size 432x288 with 1 Axes>"
      ]
     },
     "metadata": {
      "needs_background": "light"
     },
     "output_type": "display_data"
    }
   ],
   "source": [
    "fig, ax = plt.subplots()\n",
    "ax.plot(x, y, 'g--', label='f(x)')  # green dashed line\n",
    "ax.plot(x, yprime, 'c-', label=\"f'(x)\")  # cyan solid line\n",
    "ax.set_xlabel('x')  # label for x-axis\n",
    "ax.legend()      \n",
    "ax.grid(True)  # turn on grid"
   ]
  },
  {
   "cell_type": "markdown",
   "metadata": {},
   "source": [
    "### 2.2. Comparison with numerical derivatives"
   ]
  },
  {
   "cell_type": "markdown",
   "metadata": {},
   "source": [
    "- implement function for evaluating the derivatives\n",
    "\n",
    "\n",
    "- plot to evaluate accuracy against analytical solution<br><br>\n",
    "\n",
    "Forward difference derivative: $\\hskip1cm f'(x)\\approx\\frac{f(x+h) - f(x)}{h}$"
   ]
  },
  {
   "cell_type": "code",
   "execution_count": 21,
   "metadata": {},
   "outputs": [],
   "source": [
    "def fprime_forward(f, x0, h=1e-1):\n",
    "    \"\"\"\n",
    "    Returns derivative of function f(x) evaluated at point x0 \n",
    "    using the forward difference approximation with step h.\n",
    "    \"\"\"\n",
    "    return (f(x0+h) - f(x0)) / h"
   ]
  },
  {
   "cell_type": "markdown",
   "metadata": {},
   "source": [
    "Central differnce derivative:$\\hskip1cm f'(x)\\approx\\frac{f(x+h) - f(x-h)}{2h}$"
   ]
  },
  {
   "cell_type": "code",
   "execution_count": 22,
   "metadata": {},
   "outputs": [],
   "source": [
    "def fprime_central(f, x0, h=1e-1):\n",
    "    \"\"\"\n",
    "    Returns derivative of function f(x) evaluated at point x0 \n",
    "    using the central difference approximation with step h.\n",
    "    \"\"\"\n",
    "    return (f(x0+h) - f(x0-h)) / (2*h)"
   ]
  },
  {
   "cell_type": "markdown",
   "metadata": {},
   "source": [
    "- Derivative of our earlier defined function $f(x) = x^2(x-2)$ at $x=0.5$:\n",
    "\n",
    "\n",
    "- analytic solution $f'(x) = 3x^2 - 4x$:"
   ]
  },
  {
   "cell_type": "code",
   "execution_count": 23,
   "metadata": {},
   "outputs": [
    {
     "data": {
      "text/plain": [
       "-1.25"
      ]
     },
     "execution_count": 23,
     "metadata": {},
     "output_type": "execute_result"
    }
   ],
   "source": [
    "fprime(0.5)"
   ]
  },
  {
   "cell_type": "markdown",
   "metadata": {},
   "source": [
    "- forward difference:"
   ]
  },
  {
   "cell_type": "code",
   "execution_count": 24,
   "metadata": {},
   "outputs": [
    {
     "data": {
      "text/plain": [
       "-1.29"
      ]
     },
     "execution_count": 24,
     "metadata": {},
     "output_type": "execute_result"
    }
   ],
   "source": [
    "fprime_forward(f, 0.5)"
   ]
  },
  {
   "cell_type": "markdown",
   "metadata": {},
   "source": [
    "- central difference:"
   ]
  },
  {
   "cell_type": "code",
   "execution_count": 25,
   "metadata": {},
   "outputs": [
    {
     "data": {
      "text/plain": [
       "-1.2399999999999995"
      ]
     },
     "execution_count": 25,
     "metadata": {},
     "output_type": "execute_result"
    }
   ],
   "source": [
    "fprime_central(f, 0.5)"
   ]
  },
  {
   "cell_type": "markdown",
   "metadata": {},
   "source": [
    "- Central difference derivative more accurate than forward difference!\n",
    "\n",
    "\n",
    "- Plot it:"
   ]
  },
  {
   "cell_type": "code",
   "execution_count": 26,
   "metadata": {},
   "outputs": [],
   "source": [
    "x0 = -1.0  # interval starting point\n",
    "xn = 2.5   # interval last point\n",
    "dx = 0.1   # step"
   ]
  },
  {
   "cell_type": "code",
   "execution_count": 27,
   "metadata": {},
   "outputs": [],
   "source": [
    "x = numpy.arange(x0, xn, dx)"
   ]
  },
  {
   "cell_type": "code",
   "execution_count": 28,
   "metadata": {},
   "outputs": [],
   "source": [
    "y = f(x)"
   ]
  },
  {
   "cell_type": "code",
   "execution_count": 29,
   "metadata": {},
   "outputs": [],
   "source": [
    "yprime = fprime(x)"
   ]
  },
  {
   "cell_type": "code",
   "execution_count": 30,
   "metadata": {},
   "outputs": [],
   "source": [
    "yprime_forward = fprime_forward(f, x)"
   ]
  },
  {
   "cell_type": "code",
   "execution_count": 31,
   "metadata": {},
   "outputs": [],
   "source": [
    "yprime_central = fprime_central(f, x)"
   ]
  },
  {
   "cell_type": "code",
   "execution_count": 32,
   "metadata": {},
   "outputs": [
    {
     "data": {
      "image/png": "[encoded data removed]",
      "text/plain": [
       "<Figure size 432x288 with 1 Axes>"
      ]
     },
     "metadata": {
      "needs_background": "light"
     },
     "output_type": "display_data"
    }
   ],
   "source": [
    "fig, ax = plt.subplots()\n",
    "ax.plot(x, y, 'g--', label='f(x)')\n",
    "ax.plot(x, yprime, 'c-', label=\"f'(x) [analytic]\")\n",
    "ax.plot(x, yprime_forward, 'r.', label=\"f'(x) forward\")\n",
    "ax.plot(x, yprime_central, 'k+', label=\"f'(x) central\")\n",
    "\n",
    "ax.set_xlabel('x')\n",
    "ax.legend(loc=0)\n",
    "ax.grid(True)"
   ]
  },
  {
   "cell_type": "markdown",
   "metadata": {},
   "source": [
    "---"
   ]
  },
  {
   "cell_type": "markdown",
   "metadata": {
    "collapsed": true
   },
   "source": [
    "## 3. Root finding"
   ]
  },
  {
   "cell_type": "markdown",
   "metadata": {},
   "source": [
    "- Given a function $f(x)$, we are searching an $x_0$ so $f(x_0)=0$. We call $x_0$ a root of $f(x)$.\n",
    "\n",
    "\n",
    "- We introduce two methods:\n",
    "\n",
    "  - Bisection method\n",
    "  - Newton method\n"
   ]
  },
  {
   "cell_type": "markdown",
   "metadata": {},
   "source": [
    "### 3.1. The bisection algorithm"
   ]
  },
  {
   "cell_type": "markdown",
   "metadata": {},
   "source": [
    "Function: `bisect(f, a, b)`\n",
    "\n",
    "\n",
    "Assumptions:\n",
    "\n",
    "- Given: $a$  (float)\n",
    "- Given: $b$  (float)\n",
    "- Given: $f(x)$, continuous with single root in $[a,b]$, i.e. $f(a)f(b) < 0$\n",
    "- Given: $f_\\mathrm{tol}$ (float), for example $f_\\mathrm{tol}=10^{-6}$\n",
    "\n",
    "The bisection method returns $x$ so that $|f(x)|<$ftol:\n",
    "\n",
    "1. $x = (a+b)/2$<br><br>\n",
    "2. `while` $|f(x)| >$ `ftol` `do`\n",
    "   - `if` $f(x)f(a) > 0$\n",
    "     - `then` $a \\leftarrow x$ $\\qquad \\phantom{\\mathrm{else}b}$  \\# throw away left half\n",
    "     - `else` $b \\leftarrow x$ $\\qquad \\phantom{\\mathrm{then}a}$  \\# throw away right half<br><br>\n",
    "   - $x = (a+b)/2$<br><br>\n",
    "3. return $x$\n",
    "\n",
    "It turns out `scipy` library has implementation of bisection algorithm which we can use directly."
   ]
  },
  {
   "cell_type": "markdown",
   "metadata": {},
   "source": [
    "#### 3.1.1. The bisection function using `scipy` (scientific python library)"
   ]
  },
  {
   "cell_type": "markdown",
   "metadata": {},
   "source": [
    "- `from scipy.optimize import bisect`\n",
    "- `bisect(f, a, b, args=(), xtol=2e-12, rtol=8.88e-16, maxiter=100, full_output=False, disp=True)`\n",
    "  - `f` is the function for which we search $x$ such that $f(x)=0$\n",
    "  - `a` is the lower limit of the bracket $[a, b]$ around the root\n",
    "  - `b` is the upper limit of the bracket $[a, b]$ around the root\n",
    "  - `xtol` is an _optional_ parameter that can be used to modify the default accuracy of `xtol` $=10^{-12}$<br><br>\n",
    "\n",
    "- the `bisect` function stops 'bisecting' the interval around the root when `|b-a|<xtol`."
   ]
  },
  {
   "cell_type": "markdown",
   "metadata": {},
   "source": [
    "### 3.2. The Newton algorithm"
   ]
  },
  {
   "cell_type": "markdown",
   "metadata": {},
   "source": [
    "- Newton method for root finding: find  $x_0$ so that $f(x_0) = 0$.\n",
    "\n",
    "- Idea: close to the root, the tangent of $f(x)$ is likely to point to the root. Make use of this information.\n",
    "\n",
    "\n",
    "- Algorithm:\n",
    "\n",
    "  `while` $|f(x)|>$`ftol`, `do`\n",
    "\n",
    "  $\\quad\\quad\\quad x = x - \\frac{f(x)}{f'(x)}$\n",
    "\n",
    "  where $f'(x)=\\frac{df}{dx}(x).$<br><br>\n",
    "\n",
    "- Much better convergence than bisection method\n",
    "- but not guaranteed to converge.\n",
    "- Need a good initial guess $x$ for the root.\n",
    "\n"
   ]
  },
  {
   "cell_type": "markdown",
   "metadata": {},
   "source": [
    "#### 3.2.1. The Newton function using `scipy` (scientific python library)"
   ]
  },
  {
   "cell_type": "markdown",
   "metadata": {},
   "source": [
    "- `from scipy.optimize import newton`\n",
    "- `newton(f, x0, fprime=None, args=(), tol=1.48e-08, maxiter=50, fprime2=None)`\n",
    "  - `f` is the function for which we search $x$ such that $f(x)=0$\n",
    "  - `x0` is an initial estimate of the zero that should be somewhere near the actual zero (optional)\n",
    "  - `fprime` is the derivative of the function when available and convenient (optional)\n",
    "  - `xtol` is the allowable error of the zero value (optional)<br><br>\n",
    "\n",
    "- the `newton` function stops when `|x-x0|<xtol`."
   ]
  },
  {
   "cell_type": "markdown",
   "metadata": {},
   "source": [
    "### 3.3. Examples of root finding"
   ]
  },
  {
   "cell_type": "markdown",
   "metadata": {},
   "source": [
    "- Find root of function $f(x)=x^2(x-2)$\n",
    "- $f$ has a double root at $x=0$, and a single root at $x=2$.\n",
    "- Ask algorithm to find single root at $x=2$."
   ]
  },
  {
   "cell_type": "markdown",
   "metadata": {},
   "source": [
    "- Define function $f(x)=x^2(x-2)$"
   ]
  },
  {
   "cell_type": "code",
   "execution_count": 33,
   "metadata": {},
   "outputs": [],
   "source": [
    "def f(x):\n",
    "    \"\"\"\n",
    "    Returns f(x)=x^3-2x^2. Has roots at\n",
    "    x=0 (double root) and x=2.\n",
    "    \"\"\"\n",
    "    return x ** 3 - 2 * x ** 2"
   ]
  },
  {
   "cell_type": "markdown",
   "metadata": {},
   "source": [
    "- Explore function by plotting it:"
   ]
  },
  {
   "cell_type": "code",
   "execution_count": 34,
   "metadata": {},
   "outputs": [],
   "source": [
    "x = numpy.arange(-1, 2.5, 0.1)\n",
    "y = f(x)"
   ]
  },
  {
   "cell_type": "code",
   "execution_count": 35,
   "metadata": {},
   "outputs": [
    {
     "data": {
      "image/png": "[encoded data removed]",
      "text/plain": [
       "<Figure size 432x288 with 1 Axes>"
      ]
     },
     "metadata": {
      "needs_background": "light"
     },
     "output_type": "display_data"
    }
   ],
   "source": [
    "fig, ax = plt.subplots()\n",
    "ax.plot(x, y, 'r-', label='f(x)')\n",
    "ax.set_xlabel('x')\n",
    "ax.set_ylabel('f(x)')\n",
    "ax.legend()\n",
    "ax.grid(True)"
   ]
  },
  {
   "cell_type": "markdown",
   "metadata": {},
   "source": [
    "- We see there are two points x where $f(x)=0$, these are the roots."
   ]
  },
  {
   "cell_type": "markdown",
   "metadata": {},
   "source": [
    "__Use bisection algorithm from scipy to find roots__"
   ]
  },
  {
   "cell_type": "code",
   "execution_count": 36,
   "metadata": {},
   "outputs": [],
   "source": [
    "from scipy.optimize import bisect"
   ]
  },
  {
   "cell_type": "code",
   "execution_count": 37,
   "metadata": {},
   "outputs": [],
   "source": [
    "xroot = bisect(f, a=1.5, b=3, xtol=1e-6)"
   ]
  },
  {
   "cell_type": "code",
   "execution_count": 38,
   "metadata": {},
   "outputs": [
    {
     "name": "stdout",
     "output_type": "stream",
     "text": [
      "Root x is approx. x=2.000000238418579.\n",
      "The error is less than 1e-6.\n",
      "The exact error is -2.384185791015625e-07.\n"
     ]
    }
   ],
   "source": [
    "print(\"Root x is approx. x={}.\".format(xroot))\n",
    "print(\"The error is less than 1e-6.\")\n",
    "print(\"The exact error is {}.\".format(2 - xroot))"
   ]
  },
  {
   "cell_type": "markdown",
   "metadata": {},
   "source": [
    "__Use the Newton algorithm from scipy to find roots__"
   ]
  },
  {
   "cell_type": "code",
   "execution_count": 39,
   "metadata": {},
   "outputs": [],
   "source": [
    "from scipy.optimize import newton"
   ]
  },
  {
   "cell_type": "code",
   "execution_count": 40,
   "metadata": {},
   "outputs": [],
   "source": [
    "xroot = newton(f, x0=1.5)"
   ]
  },
  {
   "cell_type": "code",
   "execution_count": 41,
   "metadata": {},
   "outputs": [
    {
     "name": "stdout",
     "output_type": "stream",
     "text": [
      "Root x is approx. x=2.0.\n",
      "The error is less than 1e-6.\n",
      "The exact error is 0.0.\n"
     ]
    }
   ],
   "source": [
    "print(\"Root x is approx. x={}.\".format(xroot))\n",
    "print(\"The error is less than 1e-6.\")\n",
    "print(\"The exact error is {}.\".format(2 - xroot))"
   ]
  },
  {
   "cell_type": "markdown",
   "metadata": {},
   "source": [
    "__We can also:__\n",
    "\n",
    "__Use `brentq` function from scipy to find roots__"
   ]
  },
  {
   "cell_type": "code",
   "execution_count": 42,
   "metadata": {},
   "outputs": [],
   "source": [
    "from scipy.optimize import brentq"
   ]
  },
  {
   "cell_type": "code",
   "execution_count": 43,
   "metadata": {},
   "outputs": [],
   "source": [
    "xroot = brentq(f, a=1.5, b=3, xtol=1e-6) "
   ]
  },
  {
   "cell_type": "code",
   "execution_count": 44,
   "metadata": {},
   "outputs": [
    {
     "name": "stdout",
     "output_type": "stream",
     "text": [
      "Root x is approx. x=2.0000000189582865.\n",
      "The error is less than 1e-6.\n",
      "The exact error is -1.8958286496228993e-08.\n"
     ]
    }
   ],
   "source": [
    "print(\"Root x is approx. x={}.\".format(xroot))\n",
    "print(\"The error is less than 1e-6.\")\n",
    "print(\"The exact error is {}.\".format(2 - xroot))"
   ]
  },
  {
   "cell_type": "markdown",
   "metadata": {},
   "source": [
    "__Use `fsolve` function from scipy to find roots__"
   ]
  },
  {
   "cell_type": "code",
   "execution_count": 45,
   "metadata": {},
   "outputs": [],
   "source": [
    "from scipy.optimize import fsolve # multidimensional solver"
   ]
  },
  {
   "cell_type": "code",
   "execution_count": 46,
   "metadata": {},
   "outputs": [],
   "source": [
    "xroot = fsolve(f, x0=[1.6])"
   ]
  },
  {
   "cell_type": "code",
   "execution_count": 47,
   "metadata": {},
   "outputs": [
    {
     "name": "stdout",
     "output_type": "stream",
     "text": [
      "Root x is approx. x=[2.].\n",
      "The error is less than 1e-6.\n",
      "The exact error is 0.0.\n"
     ]
    }
   ],
   "source": [
    "print(\"Root x is approx. x={}.\".format(xroot))\n",
    "print(\"The error is less than 1e-6.\")\n",
    "print(\"The exact error is {}.\".format(2 - xroot[0]))"
   ]
  },
  {
   "cell_type": "markdown",
   "metadata": {},
   "source": [
    "### 3.4. Root finding summary"
   ]
  },
  {
   "cell_type": "markdown",
   "metadata": {},
   "source": [
    "- Given the function f(x), applications for root finding include:\n",
    "\n",
    "  - to find $x_1$ so that $f(x_1)=y$ for a given $y$ (this is\n",
    "    equivalent to computing the inverse of the function $f$).\n",
    "    \n",
    "  - to find crossing point $x_c$ of two functions $f_1(x)$ and $f_2(x)$ (by finding root of\n",
    "    difference function $g(x)=f_1(x)-f_2(x)$)\n",
    "\n",
    "\n",
    "- Bisection method\n",
    "  - Requires root in bracket [$a,b$]\n",
    "  - guaranteed to converge (for single roots)\n",
    "  - Library function: `scipy.optimize.bisect`\n",
    "\n",
    "\n",
    "- Newton method\n",
    "  - Requires good initial guess $x$ for root $x_0$\n",
    "  - may never converge\n",
    "  - but if it does, it is quicker than the bisection method\n",
    "  - Library function: `scipy.optimize.Newton`\n",
    "\n",
    "\n",
    "- Recommended method: `scipy.optimize.brentq` which combines the safe feature of the bisect method with the speed of the Newton method.\n",
    "\n",
    "\n",
    "- For multi-dimensional functions $f(\\mathbf{x})$, use `scipy.optimize.fsolve`."
   ]
  },
  {
   "cell_type": "markdown",
   "metadata": {},
   "source": [
    "---"
   ]
  }
 ],
 "metadata": {
  "kernelspec": {
   "display_name": "Python 3 (ipykernel)",
   "language": "python",
   "name": "python3"
  },
  "language_info": {
   "codemirror_mode": {
    "name": "ipython",
    "version": 3
   },
   "file_extension": ".py",
   "mimetype": "text/x-python",
   "name": "python",
   "nbconvert_exporter": "python",
   "pygments_lexer": "ipython3",
   "version": "3.10.2"
  }
 },
 "nbformat": 4,
 "nbformat_minor": 2
}
