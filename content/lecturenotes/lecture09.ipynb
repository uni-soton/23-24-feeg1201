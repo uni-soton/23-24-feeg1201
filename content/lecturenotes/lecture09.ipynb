{
 "cells": [
  {
   "cell_type": "markdown",
   "metadata": {},
   "source": [
    "---"
   ]
  },
  {
   "cell_type": "markdown",
   "metadata": {},
   "source": [
    "# Lecture 9"
   ]
  },
  {
   "cell_type": "markdown",
   "metadata": {},
   "source": [
    "- [**1. Curve fitting**](#1.-Curve-fitting)\n",
    "    \n",
    "\n",
    "- [**2. Interpolation of data**](#2.-Interpolation-of-data)    \n",
    "\n",
    "\n",
    "- [**3. Jupyter notebook**](#3.-Jupyter-notebook)    "
   ]
  },
  {
   "cell_type": "markdown",
   "metadata": {},
   "source": [
    "---"
   ]
  },
  {
   "cell_type": "markdown",
   "metadata": {},
   "source": [
    "## 1. Curve fitting"
   ]
  },
  {
   "cell_type": "markdown",
   "metadata": {},
   "source": [
    "- Curve fitting is the process of constructing a mathematical function that has the best fit to a series of data points\n",
    "\n",
    "\n",
    "- Result of curve fitting is a mathematical function with well defined (fit) coeficients"
   ]
  },
  {
   "cell_type": "markdown",
   "metadata": {},
   "source": [
    "### 1.1. Example\n",
    "\n",
    "- First create some data."
   ]
  },
  {
   "cell_type": "code",
   "execution_count": 1,
   "metadata": {},
   "outputs": [],
   "source": [
    "import numpy\n",
    "import matplotlib.pyplot as plt\n",
    "import pylab"
   ]
  },
  {
   "cell_type": "code",
   "execution_count": 2,
   "metadata": {},
   "outputs": [],
   "source": [
    "def create_data(n):\n",
    "    \"\"\"\n",
    "    Given an integer n, returns n data points x\n",
    "    and values y as a numpy.array.\n",
    "    \"\"\"\n",
    "    \n",
    "    xmax = 5.0\n",
    "    x = numpy.linspace(0, xmax, n)\n",
    "    y = -x**2\n",
    "    \n",
    "    # add noise to x-data\n",
    "    numpy.random.seed(2)\n",
    "    y += 1.5 * numpy.random.normal(size=len(x))\n",
    "    \n",
    "    return x, y"
   ]
  },
  {
   "cell_type": "code",
   "execution_count": 3,
   "metadata": {},
   "outputs": [],
   "source": [
    "n = 10\n",
    "x, y = create_data(n)"
   ]
  },
  {
   "cell_type": "code",
   "execution_count": 4,
   "metadata": {},
   "outputs": [
    {
     "data": {
      "image/png": "[encoded data removed]",
      "text/plain": [
       "<Figure size 432x288 with 1 Axes>"
      ]
     },
     "metadata": {
      "needs_background": "light"
     },
     "output_type": "display_data"
    }
   ],
   "source": [
    "fig, ax = plt.subplots()\n",
    "ax.plot(x, y, 'o', label='data point')\n",
    "ax.set_xlabel('x')\n",
    "ax.set_ylabel('y');"
   ]
  },
  {
   "cell_type": "markdown",
   "metadata": {},
   "source": [
    "- define model function to be fitted to the data: \n",
    "\n",
    "  - eyeballing the data it appears that parabola could be a good choice for a model function:\n",
    "\n",
    "  $$\n",
    "  y = ax^2 + bx + c\n",
    "  $$\n",
    "  \n",
    "  - which can be implemented as follows:"
   ]
  },
  {
   "cell_type": "code",
   "execution_count": 5,
   "metadata": {},
   "outputs": [],
   "source": [
    "def model(x, a, b, c):\n",
    "    \"\"\"\n",
    "    Equation to be fitted to the data. The purpose of curve\n",
    "    fitting is to find the coefficients a, b, c.\n",
    "    \"\"\"\n",
    "    return a * x ** 2 + b * x + c"
   ]
  },
  {
   "cell_type": "markdown",
   "metadata": {},
   "source": [
    "- now fit the model to the data\n",
    "\n",
    "\n",
    "- this will find optimal values of the model coefficients $a$, $b$, $c$ minimising the difference between the model function and the original data (in the least-squares sense)"
   ]
  },
  {
   "cell_type": "code",
   "execution_count": 6,
   "metadata": {},
   "outputs": [],
   "source": [
    "import scipy.optimize"
   ]
  },
  {
   "cell_type": "code",
   "execution_count": 7,
   "metadata": {},
   "outputs": [],
   "source": [
    "p, pcov = scipy.optimize.curve_fit(model, x, y)"
   ]
  },
  {
   "cell_type": "code",
   "execution_count": 8,
   "metadata": {},
   "outputs": [],
   "source": [
    "a, b, c = p"
   ]
  },
  {
   "cell_type": "code",
   "execution_count": 9,
   "metadata": {},
   "outputs": [
    {
     "data": {
      "image/png": "[encoded data removed]",
      "text/plain": [
       "<Figure size 432x288 with 1 Axes>"
      ]
     },
     "metadata": {
      "needs_background": "light"
     },
     "output_type": "display_data"
    }
   ],
   "source": [
    "fig, ax = plt.subplots()\n",
    "\n",
    "# plot the original data\n",
    "ax.plot(x, y, 'o', label='data point')\n",
    "\n",
    "# use finer and regular mesh for fitted plot\n",
    "xfine = numpy.linspace(0.1, 4.9, n * 5)\n",
    "\n",
    "ax.plot(xfine, model(xfine, a, b, c), label='fit')\n",
    "\n",
    "ax.legend()\n",
    "ax.set_xlabel('x')\n",
    "ax.set_ylabel('y');"
   ]
  },
  {
   "cell_type": "markdown",
   "metadata": {},
   "source": [
    "- The values of the fit coefficients $a$, $b$, and $c$ are:"
   ]
  },
  {
   "cell_type": "code",
   "execution_count": 10,
   "metadata": {},
   "outputs": [
    {
     "name": "stdout",
     "output_type": "stream",
     "text": [
      "a = -1.0495254065935558\n",
      "b = 0.09302367819436153\n",
      "c = -0.7439437306434895\n"
     ]
    }
   ],
   "source": [
    "print(f\"a = {a}\")\n",
    "print(f\"b = {b}\")\n",
    "print(f\"c = {c}\")"
   ]
  },
  {
   "cell_type": "markdown",
   "metadata": {},
   "source": [
    "And thus the model function optimimally fitting the data (in the least-squares sense) can be written as:\n",
    "\n",
    "$$\n",
    "y = -1.0495x^2 + 0.0930x - 0.7439\n",
    "$$\n",
    "\n",
    "where the coefficients have been rounded to 4 decimal places"
   ]
  },
  {
   "cell_type": "markdown",
   "metadata": {},
   "source": [
    "#### Summary:"
   ]
  },
  {
   "cell_type": "markdown",
   "metadata": {},
   "source": [
    "- Curve fitting allows to obtain algebraic functions optimally modelling the data\n",
    "\n",
    "\n",
    "- This is different from interpolation, where interpolating functions are typically given numerically"
   ]
  },
  {
   "cell_type": "markdown",
   "metadata": {},
   "source": [
    "---"
   ]
  },
  {
   "cell_type": "markdown",
   "metadata": {},
   "source": [
    "## 2. Interpolation of data"
   ]
  },
  {
   "cell_type": "markdown",
   "metadata": {},
   "source": [
    "- Given a set of $N$ points $(x_i, y_i)$ with $i=1,2,\\ldots N$, we sometimes need a function $\\bar f(x)$ which returns $y_i=f(x_i)$ and interpolates the data between the $x_i$\n",
    "\n",
    "\n",
    "- this interpolation can be done using scipy's function `interp1d` as: \n",
    "\n",
    "  fbar = `scipy.interpolate.interp1d(xi, yi, kind='linear')`\n",
    "\n",
    "\n",
    "- Note that the function `interp1d` returns a function `fbar` which will interpolate the `x-y` data for any given $x$ when called as `fbar(x)`"
   ]
  },
  {
   "cell_type": "markdown",
   "metadata": {},
   "source": [
    "### 2.1. Example"
   ]
  },
  {
   "cell_type": "markdown",
   "metadata": {},
   "source": [
    "- Consider the data as given in the previous example where we used interpolation to interpolate between the points"
   ]
  },
  {
   "cell_type": "code",
   "execution_count": 11,
   "metadata": {},
   "outputs": [
    {
     "data": {
      "image/png": "[encoded data removed]",
      "text/plain": [
       "<Figure size 432x288 with 1 Axes>"
      ]
     },
     "metadata": {
      "needs_background": "light"
     },
     "output_type": "display_data"
    }
   ],
   "source": [
    "fig, ax = plt.subplots()\n",
    "ax.plot(x, y, 'o', label='data point')\n",
    "ax.set_xlabel('x');"
   ]
  },
  {
   "cell_type": "markdown",
   "metadata": {},
   "source": [
    "- Now interpolate through these points using nearest, linear, and quadratic interpolation"
   ]
  },
  {
   "cell_type": "code",
   "execution_count": 12,
   "metadata": {},
   "outputs": [],
   "source": [
    "import scipy.interpolate"
   ]
  },
  {
   "cell_type": "code",
   "execution_count": 13,
   "metadata": {},
   "outputs": [],
   "source": [
    "# interpolate with piecewise constant function (p=0)\n",
    "y0 = scipy.interpolate.interp1d(x, y, kind='nearest')"
   ]
  },
  {
   "cell_type": "code",
   "execution_count": 14,
   "metadata": {},
   "outputs": [],
   "source": [
    "# interpolate with piecewise linear func (p=1)\n",
    "y1 = scipy.interpolate.interp1d(x, y, kind='linear')"
   ]
  },
  {
   "cell_type": "code",
   "execution_count": 15,
   "metadata": {},
   "outputs": [],
   "source": [
    "# interpolate with piecewise constant func (p=2)\n",
    "y2 = scipy.interpolate.interp1d(x, y, kind='quadratic')"
   ]
  },
  {
   "cell_type": "code",
   "execution_count": 16,
   "metadata": {},
   "outputs": [
    {
     "data": {
      "image/png": "[encoded data removed]",
      "text/plain": [
       "<Figure size 432x288 with 1 Axes>"
      ]
     },
     "metadata": {
      "needs_background": "light"
     },
     "output_type": "display_data"
    }
   ],
   "source": [
    "fig, ax = plt.subplots()\n",
    "\n",
    "# plot the original data\n",
    "ax.plot(x, y, 'o', label='data point')\n",
    "\n",
    "# use finer and regular mesh for interpolated plots\n",
    "xfine = numpy.linspace(0.1, 4.9, n * 100)\n",
    "\n",
    "ax.plot(xfine, y0(xfine), label='nearest interpolation')\n",
    "ax.plot(xfine, y1(xfine), label='linear interpolation')\n",
    "ax.plot(xfine, y2(xfine), label='cubic interpolation')\n",
    "\n",
    "ax.set_xlabel('x')\n",
    "ax.legend();"
   ]
  },
  {
   "cell_type": "markdown",
   "metadata": {},
   "source": [
    "__Summary:__\n",
    "\n",
    "- Data interpolation of $y_i=f(x_i)$ may be useful to\n",
    "  - create smoother plots of $f(x)$\n",
    "  - find minima/maxima of $f(x)$\n",
    "  - find inverse function $x=f^{-1}(y)$\n",
    "  - integrate $f(x)$\n",
    "\n",
    "\n",
    "- Need to decide how to interpolate (nearest, linear, quadratic or cubic splines, ...)"
   ]
  },
  {
   "cell_type": "markdown",
   "metadata": {},
   "source": [
    "---"
   ]
  },
  {
   "cell_type": "markdown",
   "metadata": {},
   "source": [
    "## 3. Jupyter notebook"
   ]
  },
  {
   "cell_type": "markdown",
   "metadata": {},
   "source": [
    "- Another kind of integrated development environment (IDLE) for Python\n",
    "\n",
    "    - may other IDLEs exist including Spyder, Eclipse, PyCharm (commercial), Emacs, vi/vim, Sublime Text (commercial), Kate\n",
    "\n",
    "\n",
    "- Used to be the IPython Notebook, but now supports many more languages than Python, thus a new name was chosen.\n",
    "\n",
    "\n",
    "- Jupyter Notebook creates an executable document that is hosted in a web browser.\n",
    "\n",
    "\n",
    "- We recommend you try this at some point, it has great value for computational engineering and research.\n",
    "\n",
    "\n",
    "- Read more at https://jupyter.org"
   ]
  },
  {
   "cell_type": "markdown",
   "metadata": {},
   "source": [
    "---"
   ]
  }
 ],
 "metadata": {
  "kernelspec": {
   "display_name": "Python 3 (ipykernel)",
   "language": "python",
   "name": "python3"
  },
  "language_info": {
   "codemirror_mode": {
    "name": "ipython",
    "version": 3
   },
   "file_extension": ".py",
   "mimetype": "text/x-python",
   "name": "python",
   "nbconvert_exporter": "python",
   "pygments_lexer": "ipython3",
   "version": "3.10.2"
  }
 },
 "nbformat": 4,
 "nbformat_minor": 2
}
