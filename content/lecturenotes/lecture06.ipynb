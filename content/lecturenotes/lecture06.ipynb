{
 "cells": [
  {
   "cell_type": "markdown",
   "metadata": {},
   "source": [
    "---"
   ]
  },
  {
   "cell_type": "markdown",
   "metadata": {},
   "source": [
    "# Lecture 6"
   ]
  },
  {
   "cell_type": "markdown",
   "metadata": {},
   "source": [
    "---"
   ]
  },
  {
   "cell_type": "markdown",
   "metadata": {},
   "source": [
    "- [**1. Higher order functions I**](#1.-Higher-order-functions-I)\n",
    "  - slides 166-172\n",
    "\n",
    "\n",
    "- [**2. Namespace**](#2.-Namespaces)\n",
    "  - slides 173 - 178\n",
    "\n",
    "\n",
    "- [**3. NumPy**](#3.-NumPy)\n",
    "  - slides 252-277, 320-327\n",
    "  "
   ]
  },
  {
   "cell_type": "markdown",
   "metadata": {},
   "source": [
    "---"
   ]
  },
  {
   "cell_type": "markdown",
   "metadata": {},
   "source": [
    "## 1. Higher order functions I\n",
    "\n",
    "Functions are [first class objects](http://en.wikipedia.org/wiki/First-class_object) $\\leftrightarrow$ functions can be given to other functions as arguments\n",
    "\n",
    "\n",
    "Motivation:\n",
    "\n",
    "- Write a function `print_x2_table()` that prints a table of values of $f(x)=x^2$ for $x=0, 0.5, 1.0, .. 2.5$, i.e.\n",
    "\n",
    "        0.0 0.0\n",
    "        0.5 0.25\n",
    "        1.0 1.0\n",
    "        1.5 2.25\n",
    "        2.0 4.0\n",
    "        2.5 6.25\n",
    "\n",
    "\n",
    "- Then do the same for $f(x)=x^3$.\n",
    "\n",
    "- Then do the same for $f(x) = \\sin(x)$."
   ]
  },
  {
   "cell_type": "code",
   "execution_count": 1,
   "metadata": {},
   "outputs": [],
   "source": [
    "def print_x2_table():  # function definition\n",
    "    for i in range(6):\n",
    "        x = i * 0.5\n",
    "        print(\"{} {}\".format(x, x**2))"
   ]
  },
  {
   "cell_type": "code",
   "execution_count": 2,
   "metadata": {},
   "outputs": [
    {
     "name": "stdout",
     "output_type": "stream",
     "text": [
      "0.0 0.0\n",
      "0.5 0.25\n",
      "1.0 1.0\n",
      "1.5 2.25\n",
      "2.0 4.0\n",
      "2.5 6.25\n"
     ]
    }
   ],
   "source": [
    "print_x2_table()       # function call"
   ]
  },
  {
   "cell_type": "markdown",
   "metadata": {},
   "source": [
    "- We could write separate functions print_x3_table() and print_sin_table() to produce similar tables for functions $x^3$ and $\\sin(x)$.\n",
    "\n",
    "Can we avoid code duplication?\n",
    "\n",
    "- Idea: Pass function $f(x)$ to tabulate to tabulating fucntion:"
   ]
  },
  {
   "cell_type": "code",
   "execution_count": 3,
   "metadata": {},
   "outputs": [],
   "source": [
    "def print_f_table(f):  # f is a function\n",
    "    for i in range(6):\n",
    "        x = i * 0.5\n",
    "        print(\"{}\\t{}\".format(x, f(x)))"
   ]
  },
  {
   "cell_type": "code",
   "execution_count": 4,
   "metadata": {},
   "outputs": [],
   "source": [
    "def square(x):         # define function y = x^2\n",
    "    return x ** 2        # we want to tabulate"
   ]
  },
  {
   "cell_type": "code",
   "execution_count": 5,
   "metadata": {},
   "outputs": [
    {
     "name": "stdout",
     "output_type": "stream",
     "text": [
      "0.0\t0.0\n",
      "0.5\t0.25\n",
      "1.0\t1.0\n",
      "1.5\t2.25\n",
      "2.0\t4.0\n",
      "2.5\t6.25\n"
     ]
    }
   ],
   "source": [
    "print_f_table(square)  # function call"
   ]
  },
  {
   "cell_type": "code",
   "execution_count": 6,
   "metadata": {},
   "outputs": [],
   "source": [
    "def cubic(x):\n",
    "    return x ** 3"
   ]
  },
  {
   "cell_type": "code",
   "execution_count": 7,
   "metadata": {},
   "outputs": [
    {
     "name": "stdout",
     "output_type": "stream",
     "text": [
      "0.0\t0.0\n",
      "0.5\t0.125\n",
      "1.0\t1.0\n",
      "1.5\t3.375\n",
      "2.0\t8.0\n",
      "2.5\t15.625\n"
     ]
    }
   ],
   "source": [
    "print_f_table(cubic)  # function call"
   ]
  },
  {
   "cell_type": "code",
   "execution_count": 8,
   "metadata": {},
   "outputs": [],
   "source": [
    "import math"
   ]
  },
  {
   "cell_type": "code",
   "execution_count": 9,
   "metadata": {},
   "outputs": [
    {
     "name": "stdout",
     "output_type": "stream",
     "text": [
      "0.0\t0.0\n",
      "0.5\t0.479425538604203\n",
      "1.0\t0.8414709848078965\n",
      "1.5\t0.9974949866040544\n",
      "2.0\t0.9092974268256817\n",
      "2.5\t0.5984721441039564\n"
     ]
    }
   ],
   "source": [
    "print_f_table(math.sin)  # function call"
   ]
  },
  {
   "cell_type": "markdown",
   "metadata": {},
   "source": [
    "Fun example:"
   ]
  },
  {
   "cell_type": "code",
   "execution_count": 10,
   "metadata": {},
   "outputs": [],
   "source": [
    "funcs = (math.sin, math.cos)"
   ]
  },
  {
   "cell_type": "code",
   "execution_count": 11,
   "metadata": {},
   "outputs": [
    {
     "name": "stdout",
     "output_type": "stream",
     "text": [
      "sin(0.000) = 0.000\n",
      "sin(1.571) = 1.000\n",
      "cos(0.000) = 1.000\n",
      "cos(1.571) = 0.000\n"
     ]
    }
   ],
   "source": [
    "for f in funcs:\n",
    "    for x in [0, math.pi/2]:\n",
    "        print(\"{}({:.3f}) = {:.3f}\".format(f.__name__, x, f(x)))"
   ]
  },
  {
   "cell_type": "markdown",
   "metadata": {},
   "source": [
    "---"
   ]
  },
  {
   "cell_type": "markdown",
   "metadata": {},
   "source": [
    "## 2. Namespaces\n",
    "\n"
   ]
  },
  {
   "cell_type": "markdown",
   "metadata": {},
   "source": [
    "We distinguish between\n",
    "\n",
    "- _global_ variables (defined in main program)\n",
    "- _local_ variables (defined for example in functions)\n",
    "- _built-in_ functions\n",
    "\n",
    "\n",
    "- Note that imported modules have their own name space.\n",
    "\n",
    "The same variable can be used in a function and in the main program but they can refer to different objects and do not interfere:"
   ]
  },
  {
   "cell_type": "code",
   "execution_count": 12,
   "metadata": {},
   "outputs": [],
   "source": [
    "def f():  # f() does not return value, only prints\n",
    "    x = 'I am local'\n",
    "    print(x)"
   ]
  },
  {
   "cell_type": "code",
   "execution_count": 13,
   "metadata": {},
   "outputs": [],
   "source": [
    "x = 'I am global'"
   ]
  },
  {
   "cell_type": "code",
   "execution_count": 14,
   "metadata": {},
   "outputs": [
    {
     "name": "stdout",
     "output_type": "stream",
     "text": [
      "I am local\n"
     ]
    }
   ],
   "source": [
    "f()"
   ]
  },
  {
   "cell_type": "code",
   "execution_count": 15,
   "metadata": {},
   "outputs": [
    {
     "name": "stdout",
     "output_type": "stream",
     "text": [
      "I am global\n"
     ]
    }
   ],
   "source": [
    "print(x)"
   ]
  },
  {
   "cell_type": "markdown",
   "metadata": {},
   "source": [
    "- So global and local variables can't see each other? Not quite, if -- within a function -- we try to access an object through its name, then Python will look for this name:\n",
    "    \n",
    "    - First in the local name space (i.e. within that function)\n",
    "    - Then in the global name space\n",
    "    - If the variable can not be found, then a `NameError` is raised.\n",
    " \n",
    " \n",
    "- This means, we can _read_ global variables from functions.\n",
    "\n",
    "Example:"
   ]
  },
  {
   "cell_type": "code",
   "execution_count": 16,
   "metadata": {},
   "outputs": [],
   "source": [
    "def f():   # f() does not return value, only prints\n",
    "    print(x)"
   ]
  },
  {
   "cell_type": "code",
   "execution_count": 17,
   "metadata": {},
   "outputs": [],
   "source": [
    "x = 'I am global'"
   ]
  },
  {
   "cell_type": "code",
   "execution_count": 18,
   "metadata": {},
   "outputs": [
    {
     "name": "stdout",
     "output_type": "stream",
     "text": [
      "I am global\n"
     ]
    }
   ],
   "source": [
    "f()"
   ]
  },
  {
   "cell_type": "markdown",
   "metadata": {},
   "source": [
    "- But local variables \"shadow\" global variables"
   ]
  },
  {
   "cell_type": "code",
   "execution_count": 19,
   "metadata": {},
   "outputs": [],
   "source": [
    "def f():\n",
    "    y = 'I am local y'\n",
    "    print(x)\n",
    "    print(y)"
   ]
  },
  {
   "cell_type": "code",
   "execution_count": 20,
   "metadata": {},
   "outputs": [],
   "source": [
    "x = 'I am global x'\n",
    "y = 'I am global y'"
   ]
  },
  {
   "cell_type": "code",
   "execution_count": 21,
   "metadata": {},
   "outputs": [
    {
     "name": "stdout",
     "output_type": "stream",
     "text": [
      "I am global x\n",
      "I am local y\n"
     ]
    }
   ],
   "source": [
    "f()"
   ]
  },
  {
   "cell_type": "code",
   "execution_count": 22,
   "metadata": {},
   "outputs": [
    {
     "name": "stdout",
     "output_type": "stream",
     "text": [
      "back in main:\n",
      "I am global y\n"
     ]
    }
   ],
   "source": [
    "print(\"back in main:\")\n",
    "print(y)"
   ]
  },
  {
   "cell_type": "markdown",
   "metadata": {},
   "source": [
    "- To `modify` global variables within a local namespace, we need to use the `global` keyword\n",
    "\n",
    "\n",
    "- Generally, the use of global variables is not recommended:\n",
    "\n",
    "    - Functions should take all necessary input as arguments and return all relevant output.\n",
    "    - This makes the functions work as independent modules which is good engineering practice and essential to control complexity of software.\n",
    "\n",
    "\n",
    "- However, the use of global variables may be suitable when the same constant or variable (such as the mass of an object) is required throughout a program:\n",
    "\n",
    "    - Because it is not good practice to define this variable more than once (it is likely that we assign different values and get inconsistent results)\n",
    "    - In this case -- in small programs -- the use of (read-only) global variables may be acceptable.\n",
    "    - Object Oriented Programming provides a somewhat neater solution to this."
   ]
  },
  {
   "cell_type": "markdown",
   "metadata": {},
   "source": [
    "### 2.1. Python's look up rule\n",
    "\n",
    "- When coming across an identifier, Python looks for this in the following order in\n",
    "\n",
    "    - the local name space (L)\n",
    "\n",
    "    - if appropriate in the next higher level local name space), (L$^2$, L$^3$, $\\ldots$)\n",
    "\n",
    "    - the global name space (G)\n",
    "    \n",
    "    - the set of built-in commands (B)\n",
    "\n",
    "\n",
    "- This is summarised as LGB or L$^n$GB.\n",
    "\n",
    "\n",
    "- If the identifier cannot be found, a `NameError` is raised."
   ]
  },
  {
   "cell_type": "markdown",
   "metadata": {},
   "source": [
    "---"
   ]
  },
  {
   "cell_type": "markdown",
   "metadata": {},
   "source": [
    "## 3. NumPy"
   ]
  },
  {
   "cell_type": "markdown",
   "metadata": {},
   "source": [
    "\n",
    "- NumPy is an interface to high performance linear algebra libraries (ATLAS, LAPACK, BLAS).\n",
    "\n",
    "\n",
    "- It provides:\n",
    "\n",
    "    - the `array` object\n",
    "    - fast mathematical operations over arrays\n",
    "    - linear algebra, Fourier transforms, Random Number generation\n",
    "\n",
    "\n",
    "- An `array` is a sequence of objects.\n",
    "\n",
    "\n",
    "- All objects in one `array` are of the same type.\n",
    "\n",
    "\n",
    "- NumPy is _not_ part of the Python standard library (import as a module).\n",
    "\n",
    "\n"
   ]
  },
  {
   "cell_type": "markdown",
   "metadata": {},
   "source": [
    "### 3.1. Basic concepts"
   ]
  },
  {
   "cell_type": "code",
   "execution_count": 23,
   "metadata": {},
   "outputs": [],
   "source": [
    "import numpy as np"
   ]
  },
  {
   "cell_type": "code",
   "execution_count": 24,
   "metadata": {},
   "outputs": [],
   "source": [
    "a = np.array([1, 4, 10])  # 1D array object"
   ]
  },
  {
   "cell_type": "code",
   "execution_count": 25,
   "metadata": {},
   "outputs": [
    {
     "data": {
      "text/plain": [
       "numpy.ndarray"
      ]
     },
     "execution_count": 25,
     "metadata": {},
     "output_type": "execute_result"
    }
   ],
   "source": [
    "type(a)"
   ]
  },
  {
   "cell_type": "code",
   "execution_count": 26,
   "metadata": {},
   "outputs": [
    {
     "data": {
      "text/plain": [
       "array([ 1,  4, 10])"
      ]
     },
     "execution_count": 26,
     "metadata": {},
     "output_type": "execute_result"
    }
   ],
   "source": [
    "a"
   ]
  },
  {
   "cell_type": "code",
   "execution_count": 27,
   "metadata": {},
   "outputs": [
    {
     "name": "stdout",
     "output_type": "stream",
     "text": [
      "[ 1  4 10]\n"
     ]
    }
   ],
   "source": [
    "print(a)"
   ]
  },
  {
   "cell_type": "code",
   "execution_count": 28,
   "metadata": {},
   "outputs": [],
   "source": [
    "B = np.array([[0, 1.5], [10, 12]])  # 2D array (matrix)"
   ]
  },
  {
   "cell_type": "code",
   "execution_count": 29,
   "metadata": {},
   "outputs": [
    {
     "data": {
      "text/plain": [
       "numpy.ndarray"
      ]
     },
     "execution_count": 29,
     "metadata": {},
     "output_type": "execute_result"
    }
   ],
   "source": [
    "type(B)"
   ]
  },
  {
   "cell_type": "code",
   "execution_count": 30,
   "metadata": {},
   "outputs": [
    {
     "data": {
      "text/plain": [
       "array([[ 0. ,  1.5],\n",
       "       [10. , 12. ]])"
      ]
     },
     "execution_count": 30,
     "metadata": {},
     "output_type": "execute_result"
    }
   ],
   "source": [
    "B"
   ]
  },
  {
   "cell_type": "code",
   "execution_count": 31,
   "metadata": {},
   "outputs": [
    {
     "name": "stdout",
     "output_type": "stream",
     "text": [
      "[[ 0.   1.5]\n",
      " [10.  12. ]]\n"
     ]
    }
   ],
   "source": [
    "print(B)"
   ]
  },
  {
   "cell_type": "markdown",
   "metadata": {},
   "source": [
    "- NumPy arrays can be defined by convering lists to arrays by using `array` conversion, as we have done above. We can also convert tuples to arrays:"
   ]
  },
  {
   "cell_type": "code",
   "execution_count": 32,
   "metadata": {},
   "outputs": [
    {
     "data": {
      "text/plain": [
       "array([ 1,  3,  4,  5,  6, 10,  1,  4, 10])"
      ]
     },
     "execution_count": 32,
     "metadata": {},
     "output_type": "execute_result"
    }
   ],
   "source": [
    "t = (1, 3, 4, 5, 6, 10, 1, 4, 10)  # tuple\n",
    "\n",
    "a = np.array(t)  # convert to array\n",
    "\n",
    "a"
   ]
  },
  {
   "cell_type": "markdown",
   "metadata": {},
   "source": [
    "- Other useful methods are NumPy's `zeros` and `ones` which accept a desired matrix shape as the input:"
   ]
  },
  {
   "cell_type": "code",
   "execution_count": 33,
   "metadata": {},
   "outputs": [
    {
     "data": {
      "text/plain": [
       "array([[0., 0., 0., 0.],\n",
       "       [0., 0., 0., 0.],\n",
       "       [0., 0., 0., 0.]])"
      ]
     },
     "execution_count": 33,
     "metadata": {},
     "output_type": "execute_result"
    }
   ],
   "source": [
    "B = np.zeros((3, 4))  # function zeros takes a tuple as input\n",
    "\n",
    "B"
   ]
  },
  {
   "cell_type": "code",
   "execution_count": 34,
   "metadata": {},
   "outputs": [],
   "source": [
    "C = np.ones((4, 2))  # function ones takes a tuple as input"
   ]
  },
  {
   "cell_type": "code",
   "execution_count": 35,
   "metadata": {},
   "outputs": [
    {
     "data": {
      "text/plain": [
       "array([[1., 1.],\n",
       "       [1., 1.],\n",
       "       [1., 1.],\n",
       "       [1., 1.]])"
      ]
     },
     "execution_count": 35,
     "metadata": {},
     "output_type": "execute_result"
    }
   ],
   "source": [
    "C"
   ]
  },
  {
   "cell_type": "code",
   "execution_count": 36,
   "metadata": {},
   "outputs": [
    {
     "data": {
      "text/plain": [
       "(9,)"
      ]
     },
     "execution_count": 36,
     "metadata": {},
     "output_type": "execute_result"
    }
   ],
   "source": [
    "a.shape  # shape of an array retuned as a tuple"
   ]
  },
  {
   "cell_type": "code",
   "execution_count": 37,
   "metadata": {},
   "outputs": [
    {
     "data": {
      "text/plain": [
       "(3, 4)"
      ]
     },
     "execution_count": 37,
     "metadata": {},
     "output_type": "execute_result"
    }
   ],
   "source": [
    "B.shape"
   ]
  },
  {
   "cell_type": "code",
   "execution_count": 38,
   "metadata": {},
   "outputs": [
    {
     "data": {
      "text/plain": [
       "(4, 2)"
      ]
     },
     "execution_count": 38,
     "metadata": {},
     "output_type": "execute_result"
    }
   ],
   "source": [
    "C.shape"
   ]
  },
  {
   "cell_type": "markdown",
   "metadata": {},
   "source": [
    "- All elements in an array must be of the same type. For existing array, the type is the `dtype` attribute:"
   ]
  },
  {
   "cell_type": "code",
   "execution_count": 39,
   "metadata": {},
   "outputs": [
    {
     "data": {
      "text/plain": [
       "dtype('int64')"
      ]
     },
     "execution_count": 39,
     "metadata": {},
     "output_type": "execute_result"
    }
   ],
   "source": [
    "a.dtype"
   ]
  },
  {
   "cell_type": "code",
   "execution_count": 40,
   "metadata": {},
   "outputs": [
    {
     "data": {
      "text/plain": [
       "dtype('float64')"
      ]
     },
     "execution_count": 40,
     "metadata": {},
     "output_type": "execute_result"
    }
   ],
   "source": [
    "B.dtype"
   ]
  },
  {
   "cell_type": "markdown",
   "metadata": {},
   "source": [
    "__Indexing and slicing__"
   ]
  },
  {
   "cell_type": "code",
   "execution_count": 41,
   "metadata": {},
   "outputs": [
    {
     "data": {
      "text/plain": [
       "array([ 1,  3,  4,  5,  6, 10,  1,  4, 10])"
      ]
     },
     "execution_count": 41,
     "metadata": {},
     "output_type": "execute_result"
    }
   ],
   "source": [
    "a"
   ]
  },
  {
   "cell_type": "code",
   "execution_count": 42,
   "metadata": {},
   "outputs": [
    {
     "data": {
      "text/plain": [
       "array([1, 3, 4, 5])"
      ]
     },
     "execution_count": 42,
     "metadata": {},
     "output_type": "execute_result"
    }
   ],
   "source": [
    "a[:4]  # all elements up to and excluding the 4th element"
   ]
  },
  {
   "cell_type": "code",
   "execution_count": 43,
   "metadata": {},
   "outputs": [
    {
     "data": {
      "text/plain": [
       "10"
      ]
     },
     "execution_count": 43,
     "metadata": {},
     "output_type": "execute_result"
    }
   ],
   "source": [
    "a[-1]  # last element"
   ]
  },
  {
   "cell_type": "code",
   "execution_count": 44,
   "metadata": {},
   "outputs": [
    {
     "data": {
      "text/plain": [
       "array([ 5,  6, 10,  1])"
      ]
     },
     "execution_count": 44,
     "metadata": {},
     "output_type": "execute_result"
    }
   ],
   "source": [
    "a[3:7]  # all elements between the 3rd (included)\n",
    "        # and 7th (excluded) element"
   ]
  },
  {
   "cell_type": "code",
   "execution_count": 45,
   "metadata": {},
   "outputs": [
    {
     "data": {
      "text/plain": [
       "array([ 5, 10])"
      ]
     },
     "execution_count": 45,
     "metadata": {},
     "output_type": "execute_result"
    }
   ],
   "source": [
    "a[3:7:2]  # slicing with a step (2 in this case)"
   ]
  },
  {
   "cell_type": "code",
   "execution_count": 46,
   "metadata": {},
   "outputs": [
    {
     "data": {
      "text/plain": [
       "array([], dtype=int64)"
      ]
     },
     "execution_count": 46,
     "metadata": {},
     "output_type": "execute_result"
    }
   ],
   "source": [
    "a[3:7:-1]  # slicing with reversed stepping"
   ]
  },
  {
   "cell_type": "code",
   "execution_count": 47,
   "metadata": {},
   "outputs": [
    {
     "data": {
      "text/plain": [
       "array([ 4,  1, 10,  6])"
      ]
     },
     "execution_count": 47,
     "metadata": {},
     "output_type": "execute_result"
    }
   ],
   "source": [
    "a[7:3:-1]"
   ]
  },
  {
   "cell_type": "code",
   "execution_count": 48,
   "metadata": {},
   "outputs": [
    {
     "data": {
      "text/plain": [
       "array([ 1,  3,  4,  5,  6, 10,  1,  4, 10])"
      ]
     },
     "execution_count": 48,
     "metadata": {},
     "output_type": "execute_result"
    }
   ],
   "source": [
    "a"
   ]
  },
  {
   "cell_type": "code",
   "execution_count": 49,
   "metadata": {},
   "outputs": [
    {
     "data": {
      "text/plain": [
       "array([10,  4,  1, 10,  6,  5,  4,  3,  1])"
      ]
     },
     "execution_count": 49,
     "metadata": {},
     "output_type": "execute_result"
    }
   ],
   "source": [
    "a[::-1]  # reversing an array"
   ]
  },
  {
   "cell_type": "code",
   "execution_count": 50,
   "metadata": {},
   "outputs": [
    {
     "data": {
      "text/plain": [
       "array([[0., 0., 0., 0.],\n",
       "       [0., 0., 0., 0.],\n",
       "       [0., 0., 0., 0.]])"
      ]
     },
     "execution_count": 50,
     "metadata": {},
     "output_type": "execute_result"
    }
   ],
   "source": [
    "B"
   ]
  },
  {
   "cell_type": "code",
   "execution_count": 51,
   "metadata": {},
   "outputs": [
    {
     "data": {
      "text/plain": [
       "0.0"
      ]
     },
     "execution_count": 51,
     "metadata": {},
     "output_type": "execute_result"
    }
   ],
   "source": [
    "B[2, 3]"
   ]
  },
  {
   "cell_type": "code",
   "execution_count": 52,
   "metadata": {},
   "outputs": [
    {
     "data": {
      "text/plain": [
       "0.0"
      ]
     },
     "execution_count": 52,
     "metadata": {},
     "output_type": "execute_result"
    }
   ],
   "source": [
    "B[-1, -1]"
   ]
  },
  {
   "cell_type": "code",
   "execution_count": 53,
   "metadata": {},
   "outputs": [
    {
     "data": {
      "text/plain": [
       "array([0., 0., 0.])"
      ]
     },
     "execution_count": 53,
     "metadata": {},
     "output_type": "execute_result"
    }
   ],
   "source": [
    "B[:, 1]   # column with index 1"
   ]
  },
  {
   "cell_type": "code",
   "execution_count": 54,
   "metadata": {},
   "outputs": [
    {
     "data": {
      "text/plain": [
       "array([0., 0., 0., 0.])"
      ]
     },
     "execution_count": 54,
     "metadata": {},
     "output_type": "execute_result"
    }
   ],
   "source": [
    "B[0, :]  # row with index 0"
   ]
  },
  {
   "cell_type": "markdown",
   "metadata": {},
   "source": [
    "### 3.2. Why is NumPy useful\n",
    "\n",
    "\n",
    "\n",
    "- NumPy arrays allow element-wise evaluation of mathematical functions over entire array. "
   ]
  },
  {
   "cell_type": "code",
   "execution_count": 55,
   "metadata": {},
   "outputs": [
    {
     "data": {
      "text/plain": [
       "array([ 1,  3,  4,  5,  6, 10,  1,  4, 10])"
      ]
     },
     "execution_count": 55,
     "metadata": {},
     "output_type": "execute_result"
    }
   ],
   "source": [
    "a"
   ]
  },
  {
   "cell_type": "code",
   "execution_count": 56,
   "metadata": {},
   "outputs": [
    {
     "data": {
      "text/plain": [
       "array([  1,   9,  16,  25,  36, 100,   1,  16, 100])"
      ]
     },
     "execution_count": 56,
     "metadata": {},
     "output_type": "execute_result"
    }
   ],
   "source": [
    "a**2   # Element-wise second power"
   ]
  },
  {
   "cell_type": "code",
   "execution_count": 57,
   "metadata": {},
   "outputs": [
    {
     "data": {
      "text/plain": [
       "array([1.        , 1.73205081, 2.        , 2.23606798, 2.44948974,\n",
       "       3.16227766, 1.        , 2.        , 3.16227766])"
      ]
     },
     "execution_count": 57,
     "metadata": {},
     "output_type": "execute_result"
    }
   ],
   "source": [
    "np.sqrt(a)  # element-wise square root"
   ]
  },
  {
   "cell_type": "code",
   "execution_count": 58,
   "metadata": {},
   "outputs": [
    {
     "data": {
      "text/plain": [
       "array([ 0.84147098,  0.14112001, -0.7568025 , -0.95892427, -0.2794155 ,\n",
       "       -0.54402111,  0.84147098, -0.7568025 , -0.54402111])"
      ]
     },
     "execution_count": 58,
     "metadata": {},
     "output_type": "execute_result"
    }
   ],
   "source": [
    "np.sin(a)"
   ]
  },
  {
   "cell_type": "code",
   "execution_count": 59,
   "metadata": {},
   "outputs": [
    {
     "data": {
      "text/plain": [
       "array([False, False,  True,  True,  True,  True, False,  True,  True])"
      ]
     },
     "execution_count": 59,
     "metadata": {},
     "output_type": "execute_result"
    }
   ],
   "source": [
    "a > 3"
   ]
  },
  {
   "cell_type": "markdown",
   "metadata": {},
   "source": [
    "- Compare with `math.sqrt` which operates only on a single element:"
   ]
  },
  {
   "cell_type": "code",
   "execution_count": 60,
   "metadata": {},
   "outputs": [
    {
     "data": {
      "text/plain": [
       "1.4142135623730951"
      ]
     },
     "execution_count": 60,
     "metadata": {},
     "output_type": "execute_result"
    }
   ],
   "source": [
    "import math as m\n",
    "\n",
    "m.sqrt(2)  # allows only single element input"
   ]
  },
  {
   "cell_type": "code",
   "execution_count": 61,
   "metadata": {},
   "outputs": [
    {
     "data": {
      "text/plain": [
       "0.9092974268256817"
      ]
     },
     "execution_count": 61,
     "metadata": {},
     "output_type": "execute_result"
    }
   ],
   "source": [
    "m.sin(2)"
   ]
  },
  {
   "cell_type": "markdown",
   "metadata": {},
   "source": [
    "To imitate `NumPy`-like operations using `math` module, we could implement, for example, the square root over elements of a sequence of numbers as:"
   ]
  },
  {
   "cell_type": "code",
   "execution_count": 62,
   "metadata": {},
   "outputs": [
    {
     "data": {
      "text/plain": [
       "(1, 3, 4, 5, 6, 10, 1, 4, 10)"
      ]
     },
     "execution_count": 62,
     "metadata": {},
     "output_type": "execute_result"
    }
   ],
   "source": [
    "t  # tuple of integers defined above"
   ]
  },
  {
   "cell_type": "code",
   "execution_count": 63,
   "metadata": {},
   "outputs": [
    {
     "name": "stdout",
     "output_type": "stream",
     "text": [
      "[1.0, 1.7320508075688772, 2.0, 2.23606797749979, 2.449489742783178, 3.1622776601683795, 1.0, 2.0, 3.1622776601683795]\n"
     ]
    }
   ],
   "source": [
    "lsqrt = []   # initialis the final list that will contain square roots\n",
    "\n",
    "for i in t:\n",
    "    lsqrt.append(m.sqrt(i))  # calculate square root of individual elements\n",
    "                             # and append to a new list\n",
    "\n",
    "tsqrt = tuple(lsqrt)  # convert to tuple\n",
    "\n",
    "print(lsqrt)"
   ]
  },
  {
   "cell_type": "markdown",
   "metadata": {},
   "source": [
    "__Additional comments__\n",
    "\n",
    "- NumPy provides broad range of linear algebra tools, for example: <br><br>\n",
    "\n",
    "    - `pinv` to compute the inverse of a matrix\n",
    "\n",
    "    - `svd` to compute a singular value decomposition\n",
    "\n",
    "    - `det` to compute the determinant\n",
    "\n",
    "    - `eig` to compute eigenvalues and eigenvectors\n",
    "\n",
    "\n",
    "- Use `help(numpy.linalg)` for an overview.\n",
    "\n",
    "\n",
    "- NumPy will be used extensively in the following lectures."
   ]
  },
  {
   "cell_type": "markdown",
   "metadata": {},
   "source": [
    "### 3.3. Summary of sequences\n",
    "\n",
    "- arrays, similarly to lists, strings and tuples are sequences.\n",
    "\n",
    "\n",
    "- sequences share the following operations\n",
    "\n",
    "\n",
    "        a[i]      returns i-th element of a\n",
    "        a[i:j]    returns elements i up to j-1  \n",
    "        len(a)    returns number of elements in sequence\n",
    "        min(a)    returns smallest value in sequence\n",
    "        max(a)    returns largest value in sequence\n",
    "        x in a    returns True if x is element in a\n",
    "        a + b     concatenates a and b\n",
    "        n * a     creates n copies of sequence a\n",
    "        \n",
    "- In this table _a_, _b_ are sequences, _i_, _j_, _n_ are integers"
   ]
  },
  {
   "cell_type": "markdown",
   "metadata": {},
   "source": [
    "---"
   ]
  }
 ],
 "metadata": {
  "kernelspec": {
   "display_name": "Python 3 (ipykernel)",
   "language": "python",
   "name": "python3"
  },
  "language_info": {
   "codemirror_mode": {
    "name": "ipython",
    "version": 3
   },
   "file_extension": ".py",
   "mimetype": "text/x-python",
   "name": "python",
   "nbconvert_exporter": "python",
   "pygments_lexer": "ipython3",
   "version": "3.10.2"
  }
 },
 "nbformat": 4,
 "nbformat_minor": 2
}
