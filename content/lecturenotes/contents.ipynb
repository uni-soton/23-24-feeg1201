{
 "cells": [
  {
   "cell_type": "markdown",
   "id": "5579a21f-63be-4302-9ce3-c515706a4d7f",
   "metadata": {},
   "source": [
    "- [Lecture 01](lecture01.ipynb)\n",
    "- [Lecture 02](lecture02.ipynb)\n",
    "- [Lecture 03](lecture03.ipynb)\n",
    "- [Lecture 04](lecture04.ipynb)\n",
    "- [Lecture 05](lecture05.ipynb)\n",
    "- [Lecture 06](lecture06.ipynb)\n",
    "- [Lecture 07](lecture07.ipynb)\n",
    "- [Lecture 08](lecture08.ipynb)\n",
    "- [Lecture 09](lecture09.ipynb)\n",
    "- [Lecture 10](lecture10.ipynb)\n"
   ]
  },
  {
   "cell_type": "code",
   "execution_count": null,
   "id": "2139f755-bb33-463c-b331-1d49ab0e268f",
   "metadata": {},
   "outputs": [],
   "source": []
  }
 ],
 "metadata": {
  "kernelspec": {
   "display_name": "Python 3 (ipykernel)",
   "language": "python",
   "name": "python3"
  },
  "language_info": {
   "codemirror_mode": {
    "name": "ipython",
    "version": 3
   },
   "file_extension": ".py",
   "mimetype": "text/x-python",
   "name": "python",
   "nbconvert_exporter": "python",
   "pygments_lexer": "ipython3",
   "version": "3.10.0"
  }
 },
 "nbformat": 4,
 "nbformat_minor": 5
}
