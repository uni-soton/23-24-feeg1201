{
 "cells": [
  {
   "cell_type": "markdown",
   "metadata": {},
   "source": [
    "# Lecture 2"
   ]
  },
  {
   "cell_type": "markdown",
   "metadata": {},
   "source": [
    "---"
   ]
  },
  {
   "cell_type": "markdown",
   "metadata": {},
   "source": [
    "## Teaching materials Lecture 2\n",
    "\n",
    "Preparation\n",
    "\n",
    "- videos in \"Supporting Video material\" \n",
    "- these lecture notes\n",
    "\n",
    "Optional\n",
    "\n",
    "- Slides 37 to 48 (\"Python for Computational Science and Engineering\" in \"Supporting Information\")\n",
    "Additional videos\n",
    "- Socratica: [Strings in Python](https://youtu.be/iAzShkKzpJo?si=Qi5iFYcIac71PN3p)"
   ]
  },
  {
   "cell_type": "markdown",
   "metadata": {},
   "source": [
    "- **Recap**\n",
    "\n",
    "  - slides 16 to 22 (basics, prompt, arithmetic, objects)\n",
    "\n",
    "- **New(ish) topics**\n",
    "\n",
    "    - [1. Functions](#1.-Functions)\n",
    "    - [2. Modules](#2.-Modules)\n",
    "    - [3. Coding style](#4.-Coding-style)"
   ]
  },
  {
   "cell_type": "markdown",
   "metadata": {},
   "source": [
    "---"
   ]
  },
  {
   "cell_type": "markdown",
   "metadata": {},
   "source": [
    "## 1. Functions\n",
    "\n",
    "- Functions provide (black boxes of) functionality: crucial building blocks that hide complexity\n",
    "\n",
    "\n",
    "- Interaction (input, output) through input arguments and return values (*printing* and *returning* values is not the same!)\n",
    "\n",
    "       x = -1.5\n",
    "       y = abs(x)\n",
    "\n",
    "- `x` is the **argument** given to the function\n",
    "\n",
    "\n",
    "- `y` is the **return value** (the result of the function's computation)\n",
    "\n",
    "\n",
    "Example:"
   ]
  },
  {
   "cell_type": "code",
   "execution_count": 1,
   "metadata": {},
   "outputs": [
    {
     "name": "stdout",
     "output_type": "stream",
     "text": [
      "The sum of 3 and 4 is 7\n"
     ]
    }
   ],
   "source": [
    "def mysum(a, b):\n",
    "    return a + b\n",
    "\n",
    "\n",
    "# main program starts here\n",
    "print(\"The sum of 3 and 4 is\", mysum(3, 4))"
   ]
  },
  {
   "cell_type": "markdown",
   "metadata": {},
   "source": [
    "- Functions may expect zero, one or more arguments.\n",
    "\n",
    "\n",
    "- A function should (normally) not modify input arguments (watch out for lists, dicts, more complex data structures as input arguments).\n",
    "\n",
    "\n",
    "- Functions should be documented\n"
   ]
  },
  {
   "cell_type": "code",
   "execution_count": 1,
   "metadata": {},
   "outputs": [
    {
     "name": "stdout",
     "output_type": "stream",
     "text": [
      "The sum of 3 and 4 is 7\n"
     ]
    }
   ],
   "source": [
    "def mysum(a, b):\n",
    "    \"\"\"\n",
    "    Return the sum of parameters a and b.\n",
    "    Hans Fangohr, fangohr@soton.ac.uk,\n",
    "    last modified 24/09/2013\n",
    "    \"\"\"\n",
    "    return a + b\n",
    "\n",
    "\n",
    "# main program starts here\n",
    "print(\"The sum of 3 and 4 is\", mysum(3, 4))"
   ]
  },
  {
   "cell_type": "markdown",
   "metadata": {},
   "source": [
    "- Doc-string provides the specification (contract) of the function's input, output and behaviour.\n",
    "\n",
    "\n",
    "- With the doc-string available, we can now use the help function for our new function:"
   ]
  },
  {
   "cell_type": "code",
   "execution_count": 2,
   "metadata": {},
   "outputs": [
    {
     "name": "stdout",
     "output_type": "stream",
     "text": [
      "Help on function mysum in module __main__:\n",
      "\n",
      "mysum(a, b)\n",
      "    Return the sum of parameters a and b.\n",
      "    Hans Fangohr, fangohr@soton.ac.uk,\n",
      "    last modified 24/09/2013\n",
      "\n"
     ]
    }
   ],
   "source": [
    "help(mysum)"
   ]
  },
  {
   "cell_type": "markdown",
   "metadata": {},
   "source": [
    "Return values\n",
    "\n",
    "- Not all functions (seem to) return a value.\n",
    "\n",
    "\n",
    "- If no `return` keyword is used, the special object `None` is returned.\n"
   ]
  },
  {
   "cell_type": "code",
   "execution_count": 3,
   "metadata": {},
   "outputs": [
    {
     "name": "stdout",
     "output_type": "stream",
     "text": [
      "7\n",
      "The sum of 3 and 4 is None\n"
     ]
    }
   ],
   "source": [
    "def mysum(a, b):\n",
    "    \"\"\"\n",
    "    Return the sum of parameters a and b.\n",
    "    Hans Fangohr, fangohr@soton.ac.uk,\n",
    "    last modified 24/09/2013\n",
    "    \"\"\"\n",
    "    print(a + b)\n",
    "\n",
    "\n",
    "# main program starts here\n",
    "print(\"The sum of 3 and 4 is\", mysum(3, 4))"
   ]
  },
  {
   "cell_type": "markdown",
   "metadata": {},
   "source": [
    "__Explanation__:\n",
    "\n",
    "- function `print` in the main program calls function `mysum`\n",
    "\n",
    "\n",
    "- function mysum, when called, executes and prints the sub `a+b` on the screen\n",
    "\n",
    "\n",
    "- because function mysum does not return a value (no return statement, only prints on the screen), it returns by defaule object `None`\n",
    "\n",
    "IPython shows if the function returns something:"
   ]
  },
  {
   "cell_type": "code",
   "execution_count": 4,
   "metadata": {},
   "outputs": [],
   "source": [
    "def print42():  # define function print42 - no input, no return value\n",
    "    print(42)\n",
    "\n",
    "\n",
    "def return42():  # define function return42 - no input, return value\n",
    "    return 42"
   ]
  },
  {
   "cell_type": "code",
   "execution_count": 5,
   "metadata": {},
   "outputs": [
    {
     "name": "stdout",
     "output_type": "stream",
     "text": [
      "42\n"
     ]
    }
   ],
   "source": [
    "print42()"
   ]
  },
  {
   "cell_type": "code",
   "execution_count": 6,
   "metadata": {},
   "outputs": [
    {
     "data": {
      "text/plain": [
       "42"
      ]
     },
     "execution_count": 6,
     "metadata": {},
     "output_type": "execute_result"
    }
   ],
   "source": [
    "return42()"
   ]
  },
  {
   "cell_type": "markdown",
   "metadata": {},
   "source": [
    "`Out[]` appearing above means the executed function returns a value. "
   ]
  },
  {
   "cell_type": "code",
   "execution_count": 7,
   "metadata": {},
   "outputs": [
    {
     "name": "stdout",
     "output_type": "stream",
     "text": [
      "42\n",
      "None\n"
     ]
    }
   ],
   "source": [
    "print(print42())"
   ]
  },
  {
   "cell_type": "code",
   "execution_count": 8,
   "metadata": {},
   "outputs": [
    {
     "name": "stdout",
     "output_type": "stream",
     "text": [
      "42\n"
     ]
    }
   ],
   "source": [
    "print(return42())"
   ]
  },
  {
   "cell_type": "markdown",
   "metadata": {},
   "source": [
    "---"
   ]
  },
  {
   "cell_type": "markdown",
   "metadata": {},
   "source": [
    "## 2. Modules\n",
    "\n",
    "\n",
    "Functions can be grouped into *modules* to form libraries.\n",
    "\n",
    "\n",
    "### 2.1. The math module (`import math`)"
   ]
  },
  {
   "cell_type": "code",
   "execution_count": 9,
   "metadata": {},
   "outputs": [],
   "source": [
    "import math"
   ]
  },
  {
   "cell_type": "code",
   "execution_count": 10,
   "metadata": {},
   "outputs": [
    {
     "data": {
      "text/plain": [
       "2.0"
      ]
     },
     "execution_count": 10,
     "metadata": {},
     "output_type": "execute_result"
    }
   ],
   "source": [
    "math.sqrt(4)"
   ]
  },
  {
   "cell_type": "code",
   "execution_count": 11,
   "metadata": {},
   "outputs": [
    {
     "data": {
      "text/plain": [
       "3.141592653589793"
      ]
     },
     "execution_count": 11,
     "metadata": {},
     "output_type": "execute_result"
    }
   ],
   "source": [
    "math.pi"
   ]
  },
  {
   "cell_type": "code",
   "execution_count": 12,
   "metadata": {},
   "outputs": [
    {
     "name": "stdout",
     "output_type": "stream",
     "text": [
      "['__doc__', '__file__', '__loader__', '__name__', '__package__', '__spec__', 'acos', 'acosh', 'asin', 'asinh', 'atan', 'atan2', 'atanh', 'ceil', 'comb', 'copysign', 'cos', 'cosh', 'degrees', 'dist', 'e', 'erf', 'erfc', 'exp', 'expm1', 'fabs', 'factorial', 'floor', 'fmod', 'frexp', 'fsum', 'gamma', 'gcd', 'hypot', 'inf', 'isclose', 'isfinite', 'isinf', 'isnan', 'isqrt', 'lcm', 'ldexp', 'lgamma', 'log', 'log10', 'log1p', 'log2', 'modf', 'nan', 'nextafter', 'perm', 'pi', 'pow', 'prod', 'radians', 'remainder', 'sin', 'sinh', 'sqrt', 'tan', 'tanh', 'tau', 'trunc', 'ulp']\n"
     ]
    }
   ],
   "source": [
    "print(dir(math))"
   ]
  },
  {
   "cell_type": "code",
   "execution_count": 13,
   "metadata": {},
   "outputs": [
    {
     "name": "stdout",
     "output_type": "stream",
     "text": [
      "Help on built-in function sqrt in module math:\n",
      "\n",
      "sqrt(x, /)\n",
      "    Return the square root of x.\n",
      "\n"
     ]
    }
   ],
   "source": [
    "help(math.sqrt)  # ask for help on sqrt"
   ]
  },
  {
   "cell_type": "markdown",
   "metadata": {},
   "source": [
    "### 2.2. Three (good) options to access a module\n",
    "\n",
    "1\\. use the full name:"
   ]
  },
  {
   "cell_type": "code",
   "execution_count": 14,
   "metadata": {},
   "outputs": [
    {
     "name": "stdout",
     "output_type": "stream",
     "text": [
      "0.479425538604203\n"
     ]
    }
   ],
   "source": [
    "import math\n",
    "\n",
    "print(math.sin(0.5))"
   ]
  },
  {
   "cell_type": "markdown",
   "metadata": {},
   "source": [
    "2\\. use some abbreviation"
   ]
  },
  {
   "cell_type": "code",
   "execution_count": 15,
   "metadata": {},
   "outputs": [
    {
     "name": "stdout",
     "output_type": "stream",
     "text": [
      "0.479425538604203\n",
      "3.141592653589793\n"
     ]
    }
   ],
   "source": [
    "import math as m\n",
    "\n",
    "print(m.sin(0.5))\n",
    "print(m.pi)"
   ]
  },
  {
   "cell_type": "markdown",
   "metadata": {},
   "source": [
    "3\\. import all objects we need explicitly "
   ]
  },
  {
   "cell_type": "code",
   "execution_count": 16,
   "metadata": {},
   "outputs": [
    {
     "name": "stdout",
     "output_type": "stream",
     "text": [
      "0.479425538604203\n",
      "3.141592653589793\n"
     ]
    }
   ],
   "source": [
    "from math import sin, pi\n",
    "\n",
    "print(sin(0.5))\n",
    "print(pi)"
   ]
  },
  {
   "cell_type": "markdown",
   "metadata": {},
   "source": [
    "---"
   ]
  },
  {
   "cell_type": "markdown",
   "metadata": {},
   "source": [
    "## 3. Coding style"
   ]
  },
  {
   "cell_type": "markdown",
   "metadata": {},
   "source": [
    "- Python programs must follow Python syntax (otherwise the interpreter will report a `SyntaxError` and stop).\n",
    "\n",
    "\n",
    "- Python programs _should_ follow Python style guide, because\n",
    "\n",
    "    - readability is key (debugging, documentation, team effort)\n",
    "    - conventions improve effectiveness\n",
    "    \n",
    "    \n",
    "- Common style guide: PEP8 (https://www.python.org/dev/peps/pep-0008/), for example:\n",
    "\n",
    "    - Indentation: use 4 spaces\n",
    "    - One space around assignment operator (`=`) operator: `c = 5` and not `c=5`.\n",
    "    - Spaces around arithmetic operators can vary: `x = 3*a + 4*b`\n",
    "      is okay, but also okay to write `x = 3 * a + 4 * b`.\n",
    "    - No space before and after parentheses: `x = sin(x)` but not\n",
    "      `x = sin( x )`\n",
    "    - A space after comma: `range(5, 10)` and not `range(5,10)`.\n",
    "    - No whitespace at end of line\n",
    "    - No whitespace in empty line\n",
    "    - One or no empty line between statements within function\n",
    "    - Two empty lines between functions\n",
    "    - One import statement per line\n",
    "    - import first standard Python library (such as `math}`, then third-party packages (numpy,\n",
    "      scipy, ...), then our own modules\n",
    "    - no spaces around `=` when used in keyword arguments\n",
    "      (`\"Hello World\".split(sep=' ')` but not `\"Hello World\".split(sep = ' ')`)\n",
    "\n",
    "\n",
    "- Try to follow PEP8 guide, in particular for new code\n",
    "\n",
    "\n",
    "- Use tools to help us, for example Spyder editor can show PEP8 violations.\n",
    "\n",
    "\n",
    "- Similar tools/plugins are available for Emacs, Sublime Text, and other editors.\n",
    "\n",
    "\n",
    "- `pycodestyle` program available to check source code from command line."
   ]
  },
  {
   "cell_type": "markdown",
   "metadata": {},
   "source": [
    "---"
   ]
  },
  {
   "cell_type": "code",
   "execution_count": null,
   "metadata": {},
   "outputs": [],
   "source": []
  }
 ],
 "metadata": {
  "kernelspec": {
   "display_name": "Python 3 (ipykernel)",
   "language": "python",
   "name": "python3"
  },
  "language_info": {
   "codemirror_mode": {
    "name": "ipython",
    "version": 3
   },
   "file_extension": ".py",
   "mimetype": "text/x-python",
   "name": "python",
   "nbconvert_exporter": "python",
   "pygments_lexer": "ipython3",
   "version": "3.11.5"
  }
 },
 "nbformat": 4,
 "nbformat_minor": 2
}
