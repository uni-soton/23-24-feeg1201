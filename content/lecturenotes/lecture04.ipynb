{
 "cells": [
  {
   "cell_type": "markdown",
   "metadata": {},
   "source": [
    "---"
   ]
  },
  {
   "cell_type": "markdown",
   "metadata": {},
   "source": [
    "# Lecture 4"
   ]
  },
  {
   "cell_type": "markdown",
   "metadata": {},
   "source": [
    "Learning resources:\n",
    "\n",
    "- Pre-lecture videos, thise lecture notes and the lecuture 04 itself as usual\n",
    "\n",
    "Additional resources:\n",
    "\n",
    "- Working with files: \n",
    "  - slides 103 to 116\n",
    "  - Video: [Socratica: Text files in Python](https://youtu.be/4mX0uPQFLDU?si=nKq2jHYSwJbyqmXp)"
   ]
  },
  {
   "cell_type": "markdown",
   "metadata": {},
   "source": [
    "---"
   ]
  },
  {
   "cell_type": "markdown",
   "metadata": {},
   "source": [
    "- [**1. Splitting a string**](#1.-Splitting-a-string)\n",
    "\n",
    "\n",
    "- [**2. Reading and writing files**](#2.-Reading-and-writing-files)\n",
    "\n",
    "    - [2.1. Writing a text file](#2.1.-Writing-a-text-file)\n",
    "    \n",
    "    - [2.2. Reading a text file](#2.2.-Reading-a-text-file)"
   ]
  },
  {
   "cell_type": "markdown",
   "metadata": {},
   "source": [
    "---"
   ]
  },
  {
   "cell_type": "markdown",
   "metadata": {},
   "source": [
    "## 1. Splitting a string\n",
    "\n",
    "- We will often need to split a string into separate parts. This procedure is frequently used during text file processing. We can use the string method `split()` for this. Try e.g. `help(\"\".split)` at the Python prompt for more info:\n",
    "\n",
    "        help(\"\".split)\n",
    "        Help on built-in function split:\n",
    "\n",
    "        split(sep=None, maxsplit=-1) method of builtins.str instance\n",
    "            Return a list of the words in the string, using sep as the delimiter string.\n",
    "\n",
    "            sep\n",
    "              The delimiter according which to split the string.\n",
    "              None (the default value) means split according to any whitespace,\n",
    "              and discard empty strings from the result.\n",
    "            maxsplit\n",
    "              Maximum number of splits to do.\n",
    "              -1 (the default value) means no limit.\n",
    "\n",
    "Example:\n",
    "\n",
    "Take a string and display each word on a separate line."
   ]
  },
  {
   "cell_type": "code",
   "execution_count": 1,
   "metadata": {},
   "outputs": [],
   "source": [
    "c = 'This is my string'"
   ]
  },
  {
   "cell_type": "code",
   "execution_count": 2,
   "metadata": {},
   "outputs": [],
   "source": [
    "csp = c.split(\" \")   # produces a list with elements being sub-strings\n",
    "                     # composed of characters contained between the white spaces\n",
    "                     # c.split(\" \") is equivalent to c.split()"
   ]
  },
  {
   "cell_type": "code",
   "execution_count": 3,
   "metadata": {},
   "outputs": [
    {
     "data": {
      "text/plain": [
       "['This', 'is', 'my', 'string']"
      ]
     },
     "execution_count": 3,
     "metadata": {},
     "output_type": "execute_result"
    }
   ],
   "source": [
    "csp"
   ]
  },
  {
   "cell_type": "code",
   "execution_count": 4,
   "metadata": {},
   "outputs": [
    {
     "name": "stdout",
     "output_type": "stream",
     "text": [
      "This\n",
      "is\n",
      "my\n",
      "string\n"
     ]
    }
   ],
   "source": [
    "for i in csp:     # print on separate lines\n",
    "    print(i)"
   ]
  },
  {
   "cell_type": "code",
   "execution_count": 5,
   "metadata": {},
   "outputs": [
    {
     "data": {
      "text/plain": [
       "['Th', 's ', 's my str', 'ng']"
      ]
     },
     "execution_count": 5,
     "metadata": {},
     "output_type": "execute_result"
    }
   ],
   "source": [
    "c.split('i')   # split around the character \"i\""
   ]
  },
  {
   "cell_type": "markdown",
   "metadata": {},
   "source": [
    "Example:\n",
    "\n",
    "Extract temperature from the following string: and convert it to a floating point number."
   ]
  },
  {
   "cell_type": "code",
   "execution_count": 6,
   "metadata": {},
   "outputs": [],
   "source": [
    "a = \"Water freezes at 273.15 K\""
   ]
  },
  {
   "cell_type": "code",
   "execution_count": 7,
   "metadata": {},
   "outputs": [
    {
     "data": {
      "text/plain": [
       "273.15"
      ]
     },
     "execution_count": 7,
     "metadata": {},
     "output_type": "execute_result"
    }
   ],
   "source": [
    "asp = a.split()   # split to list of substrings\n",
    "\n",
    "temperature_string = asp[3]   # select the 4th element\n",
    "\n",
    "temperature = float(temperature_string)   # convert string to float\n",
    "\n",
    "temperature"
   ]
  },
  {
   "cell_type": "markdown",
   "metadata": {},
   "source": [
    "Equivalent short solution:"
   ]
  },
  {
   "cell_type": "code",
   "execution_count": 8,
   "metadata": {},
   "outputs": [
    {
     "data": {
      "text/plain": [
       "273.15"
      ]
     },
     "execution_count": 8,
     "metadata": {},
     "output_type": "execute_result"
    }
   ],
   "source": [
    "temperature = float(a.split()[3])\n",
    "\n",
    "temperature"
   ]
  },
  {
   "cell_type": "markdown",
   "metadata": {},
   "source": [
    "---"
   ]
  },
  {
   "cell_type": "markdown",
   "metadata": {},
   "source": [
    "## 2. Reading and writing files"
   ]
  },
  {
   "cell_type": "markdown",
   "metadata": {},
   "source": [
    "\n",
    "It is a common task to\n",
    "\n",
    "- read some input data file\n",
    "- do some calculation/filtering/processing with the data\n",
    "- write some output data file with results\n",
    "\n",
    "\n",
    "Python distinguishes between\n",
    "\n",
    "- _text_ files (`'t'`)\n",
    "- _binary_ files (`'b'`)\n",
    "\n",
    "If we don't specify the file type, Python assumes we mean text files."
   ]
  },
  {
   "cell_type": "markdown",
   "metadata": {},
   "source": [
    "### 2.1. Writing a text file\n",
    "\n",
    "To write data, we need to open the file with `'w'` mode:\n",
    "\n",
    "    f = open('test.txt', 'w')\n",
    "\n",
    "By default, Python assumes we mean text files. However, we can be explicit and say that we want to create a Text file for Writing:\n",
    "\n",
    "    f = open('test.txt', 'tw')\n",
    "\n",
    "- If the file exists, it will be overridden with an empty file when the open command is executed.\n",
    "\n",
    "\n",
    "- The file object `f` has a method `f.write` which takes a string as in input argument.\n",
    "\n",
    "\n",
    "- We must close file at the end of writing process using `f.close()`. It is a good practice to close the file as soon as possible.\n",
    "\n",
    "\n",
    "Example:"
   ]
  },
  {
   "cell_type": "code",
   "execution_count": 9,
   "metadata": {},
   "outputs": [],
   "source": [
    "f = open('test.txt', 'w')  # open file test.txt for writing"
   ]
  },
  {
   "cell_type": "code",
   "execution_count": 10,
   "metadata": {},
   "outputs": [
    {
     "data": {
      "text/plain": [
       "22"
      ]
     },
     "execution_count": 10,
     "metadata": {},
     "output_type": "execute_result"
    }
   ],
   "source": [
    "f.write(\"first line\\nsecond line\")  # returns number of characters"
   ]
  },
  {
   "cell_type": "code",
   "execution_count": 11,
   "metadata": {},
   "outputs": [],
   "source": [
    "f.close()  # close the file"
   ]
  },
  {
   "cell_type": "markdown",
   "metadata": {},
   "source": [
    "Creates a file `test.txt` with content:\n",
    "\n",
    "    first line\n",
    "    second line\n"
   ]
  },
  {
   "cell_type": "markdown",
   "metadata": {},
   "source": [
    "### 2.2. Reading a text file\n",
    "\n",
    "We create a file object `f` for file reading using\n",
    "\n",
    "    f = open('test.txt', 'r')\n",
    "\n",
    "and have different ways of reading the data:"
   ]
  },
  {
   "cell_type": "markdown",
   "metadata": {},
   "source": [
    "\n",
    "#### 2.2.1. `f.readlines()`\n",
    "\n",
    "- returns a list of strings (each being one line)"
   ]
  },
  {
   "cell_type": "code",
   "execution_count": 12,
   "metadata": {},
   "outputs": [],
   "source": [
    "f = open('test.txt', 'r')"
   ]
  },
  {
   "cell_type": "code",
   "execution_count": 13,
   "metadata": {},
   "outputs": [],
   "source": [
    "lines = f.readlines()"
   ]
  },
  {
   "cell_type": "code",
   "execution_count": 14,
   "metadata": {},
   "outputs": [],
   "source": [
    "f.close()"
   ]
  },
  {
   "cell_type": "code",
   "execution_count": 15,
   "metadata": {},
   "outputs": [
    {
     "data": {
      "text/plain": [
       "['first line\\n', 'second line']"
      ]
     },
     "execution_count": 15,
     "metadata": {},
     "output_type": "execute_result"
    }
   ],
   "source": [
    "lines"
   ]
  },
  {
   "cell_type": "code",
   "execution_count": 16,
   "metadata": {},
   "outputs": [
    {
     "data": {
      "text/plain": [
       "list"
      ]
     },
     "execution_count": 16,
     "metadata": {},
     "output_type": "execute_result"
    }
   ],
   "source": [
    "type(lines)"
   ]
  },
  {
   "cell_type": "markdown",
   "metadata": {},
   "source": [
    "#### 2.2.2. `f.read()`\n",
    "\n",
    "- returns one long string for the whole file\n"
   ]
  },
  {
   "cell_type": "code",
   "execution_count": 17,
   "metadata": {},
   "outputs": [],
   "source": [
    "f = open('test.txt', 'r')"
   ]
  },
  {
   "cell_type": "code",
   "execution_count": 18,
   "metadata": {},
   "outputs": [],
   "source": [
    "data = f.read()"
   ]
  },
  {
   "cell_type": "code",
   "execution_count": 19,
   "metadata": {},
   "outputs": [],
   "source": [
    "f.close()"
   ]
  },
  {
   "cell_type": "code",
   "execution_count": 20,
   "metadata": {},
   "outputs": [
    {
     "data": {
      "text/plain": [
       "'first line\\nsecond line'"
      ]
     },
     "execution_count": 20,
     "metadata": {},
     "output_type": "execute_result"
    }
   ],
   "source": [
    "data"
   ]
  },
  {
   "cell_type": "code",
   "execution_count": 21,
   "metadata": {},
   "outputs": [
    {
     "data": {
      "text/plain": [
       "str"
      ]
     },
     "execution_count": 21,
     "metadata": {},
     "output_type": "execute_result"
    }
   ],
   "source": [
    "type(data)"
   ]
  },
  {
   "cell_type": "markdown",
   "metadata": {},
   "source": [
    "#### 2.2.3. Use text file `f` as an iterable object\n",
    "\n",
    "- process one line in each iteration (important for large files)"
   ]
  },
  {
   "cell_type": "code",
   "execution_count": 22,
   "metadata": {},
   "outputs": [],
   "source": [
    "f = open('test.txt', 'r')"
   ]
  },
  {
   "cell_type": "code",
   "execution_count": 23,
   "metadata": {},
   "outputs": [
    {
     "name": "stdout",
     "output_type": "stream",
     "text": [
      "first line\n",
      "second line"
     ]
    }
   ],
   "source": [
    "for line in f:\n",
    "    print(line, end='')"
   ]
  },
  {
   "cell_type": "code",
   "execution_count": 24,
   "metadata": {},
   "outputs": [],
   "source": [
    "f.close()"
   ]
  },
  {
   "cell_type": "markdown",
   "metadata": {},
   "source": [
    "#### 2.2.4. Opening and _automatic_ file closing through context manager\n",
    "\n",
    "Python provides _context managers_ that we use using `with`. For the file access:"
   ]
  },
  {
   "cell_type": "code",
   "execution_count": 25,
   "metadata": {},
   "outputs": [
    {
     "data": {
      "text/plain": [
       "'first line\\nsecond line'"
      ]
     },
     "execution_count": 25,
     "metadata": {},
     "output_type": "execute_result"
    }
   ],
   "source": [
    "with open('test.txt', 'r') as f:\n",
    "    data = f.read()\n",
    "\n",
    "data"
   ]
  },
  {
   "cell_type": "markdown",
   "metadata": {},
   "source": [
    "- If we use the file context manager, it will close the file automatically (when the control flows leaves the indented block).\n",
    "\n",
    "\n",
    "- Once you are familiar with file access, we recommend you use this method.\n",
    "\n"
   ]
  },
  {
   "cell_type": "markdown",
   "metadata": {},
   "source": [
    "#### 2.2.5. Exercise - shopping list\n",
    "\n",
    "Given the following list stored in the file `Lecture4_shopping.txt`:\n",
    "\n",
    "    bread      1  1.39\n",
    "    tomatoes   6  0.26\n",
    "    milk       3  1.45\n",
    "    coffee     3  2.99\n",
    "\n",
    "\n",
    "Write program that computes total cost per item, and writes to `Lecture4_shopping_cost.txt`:\n",
    "\n",
    "    bread      1.39\n",
    "    tomatoes   1.56\n",
    "    milk       4.35\n",
    "    coffee     8.97"
   ]
  },
  {
   "cell_type": "markdown",
   "metadata": {},
   "source": [
    "Let us first create the `Lecture4_shopping.txt` file on disk using the IPython `%%file` magic. It creates the file, and writes everything in the cell into that file:"
   ]
  },
  {
   "cell_type": "code",
   "execution_count": 26,
   "metadata": {},
   "outputs": [
    {
     "name": "stdout",
     "output_type": "stream",
     "text": [
      "Overwriting Lecture4_shopping.txt\n"
     ]
    }
   ],
   "source": [
    "%%file Lecture4_shopping.txt\n",
    "bread      1  1.39\n",
    "tomatoes   6  0.26\n",
    "milk       3  1.45\n",
    "coffee     3  2.99"
   ]
  },
  {
   "cell_type": "markdown",
   "metadata": {},
   "source": [
    "One solution is:"
   ]
  },
  {
   "cell_type": "code",
   "execution_count": 27,
   "metadata": {},
   "outputs": [],
   "source": [
    "fin = open('Lecture4_shopping.txt', 'tr')    # INput File\n",
    "lines = fin.readlines()             # read the list from the input file\n",
    "fin.close()                         # close file as soon as possible"
   ]
  },
  {
   "cell_type": "code",
   "execution_count": 28,
   "metadata": {},
   "outputs": [
    {
     "data": {
      "text/plain": [
       "['bread      1  1.39\\n',\n",
       " 'tomatoes   6  0.26\\n',\n",
       " 'milk       3  1.45\\n',\n",
       " 'coffee     3  2.99\\n']"
      ]
     },
     "execution_count": 28,
     "metadata": {},
     "output_type": "execute_result"
    }
   ],
   "source": [
    "lines"
   ]
  },
  {
   "cell_type": "code",
   "execution_count": 29,
   "metadata": {},
   "outputs": [],
   "source": [
    "fout = open('Lecture4_shopping_cost.txt', 'tw') # OUTput File\n",
    "\n",
    "for line in lines:\n",
    "    words = line.split()\n",
    "    itemname = words[0]\n",
    "    number = int(words[1])\n",
    "    cost = float(words[2])\n",
    "    totalcost = number * cost\n",
    "    fout.write(\"{:20} {}\\n\".format(itemname, totalcost))\n",
    "\n",
    "fout.close()"
   ]
  },
  {
   "cell_type": "markdown",
   "metadata": {},
   "source": [
    "which produces output file `Lecture4_shopping_cost.txt` with content show above. We use the `!cat` command to display the file:"
   ]
  },
  {
   "cell_type": "code",
   "execution_count": 30,
   "metadata": {},
   "outputs": [
    {
     "name": "stdout",
     "output_type": "stream",
     "text": [
      "bread                1.39\r\n",
      "tomatoes             1.56\r\n",
      "milk                 4.35\r\n",
      "coffee               8.97\r\n"
     ]
    }
   ],
   "source": [
    "!cat Lecture4_shopping_cost.txt"
   ]
  },
  {
   "cell_type": "markdown",
   "metadata": {},
   "source": [
    "### 2.3 Binary files\n",
    "\n",
    "Files that store _binary_ data are opened using the `'b'` flag (instead of `'t'` for Text):\n",
    "\n",
    "    f = open('data.dat', 'br')\n",
    "\n",
    "- For text files, we read and write `str` objects. For binary files, use the `bytes` type instead.\n",
    "\n",
    "\n",
    "- By default, store data in text files. Text files are human readable (that's good) but take more disk space than binary files.\n",
    "\n",
    "\n",
    "- Reading and writing binary data is outside the scope of this introductory module. If you need it, do learn about the `struct` module."
   ]
  },
  {
   "cell_type": "markdown",
   "metadata": {},
   "source": [
    "---"
   ]
  }
 ],
 "metadata": {
  "kernelspec": {
   "display_name": "Python 3 (ipykernel)",
   "language": "python",
   "name": "python3"
  },
  "language_info": {
   "codemirror_mode": {
    "name": "ipython",
    "version": 3
   },
   "file_extension": ".py",
   "mimetype": "text/x-python",
   "name": "python",
   "nbconvert_exporter": "python",
   "pygments_lexer": "ipython3",
   "version": "3.10.0"
  }
 },
 "nbformat": 4,
 "nbformat_minor": 2
}
