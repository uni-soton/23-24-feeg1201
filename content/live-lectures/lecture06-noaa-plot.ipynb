{
 "cells": [
  {
   "cell_type": "code",
   "execution_count": null,
   "id": "34deb3e0",
   "metadata": {},
   "outputs": [],
   "source": [
    "\"\"\"Lecture 06: demo plotting of data.\n",
    "\n",
    "Use functions from lib_noaa library.\n",
    "\"\"\""
   ]
  },
  {
   "cell_type": "code",
   "execution_count": null,
   "id": "24cb59eb",
   "metadata": {},
   "outputs": [],
   "source": [
    "import matplotlib.pyplot as plt\n",
    "import lib_noaa as noaa\n",
    "from lib_tools import compute_average"
   ]
  },
  {
   "cell_type": "code",
   "execution_count": null,
   "id": "43d2611a",
   "metadata": {},
   "outputs": [],
   "source": [
    "def average_by_decade(years, temps):\n",
    "    \"\"\"Compute average for each decade.\n",
    "\n",
    "    Ignore years at end of period if\n",
    "    they do not form a full decade. Return values are tuple of lists,\n",
    "    containing the beginning of the decade and the average temperature\n",
    "    deviation over the decade.\n",
    "    \"\"\"\n",
    "    assert len(years) == len(temps)\n",
    "    decades = len(years) // 10  # number of decades\n",
    "    a_temps = []  # Averages temps\n",
    "    a_years = []  # years for which average is computed\n",
    "    for decade in range(decades):\n",
    "        a_temp = compute_average(temps[decade * 10:(decade + 1) * 10])\n",
    "        a_year = years[decade * 10 + 5]\n",
    "        a_temps.append(a_temp)\n",
    "        a_years.append(a_year)\n",
    "\n",
    "    return a_years, a_temps"
   ]
  },
  {
   "cell_type": "code",
   "execution_count": null,
   "id": "4b26411c",
   "metadata": {},
   "outputs": [],
   "source": [
    "def plot_anomaly1():\n",
    "    years, temps = noaa.read_data(\"data.csv\")\n",
    "    aves_year, aves = average_by_decade(years, temps)\n",
    "    fig, ax = plt.subplots()\n",
    "    ax.plot(years, temps, \"o\", alpha=0.3, label=\"temperature anomaly\")\n",
    "    ax.plot(aves_year, aves, \"og-\", label=\"10 year average\")\n",
    "    ax.legend()\n",
    "    ax.set_xlabel(\"year\")\n",
    "    ax.set_ylabel(\"temperature anomaly [deg C]\")"
   ]
  },
  {
   "cell_type": "code",
   "execution_count": null,
   "id": "2c1c693c",
   "metadata": {},
   "outputs": [],
   "source": [
    "def plot_anomaly2():\n",
    "    years, temps = noaa.read_data(\"data.csv\")\n",
    "    aves_year, aves = average_by_decade(years, temps)\n",
    "    fig, ax = plt.subplots()\n",
    "    ax.plot(years, temps, \"og\",  alpha=0.5)\n",
    "    ax.plot(aves_year, aves, \"-\", linewidth=10, alpha=0.5,\n",
    "            label=\"10 year average\")\n",
    "    ax.set_xlabel(\"year\")\n",
    "    ax.set_ylabel(\"temperature anomaly [deg C]\")\n",
    "    ax.legend()"
   ]
  },
  {
   "cell_type": "code",
   "execution_count": null,
   "id": "3f6961cd",
   "metadata": {},
   "outputs": [],
   "source": [
    "def plot_anomaly3():\n",
    "    years, temps = noaa.read_data(\"data.csv\")\n",
    "    aves_year, aves = average_by_decade(years, temps)\n",
    "    fig, ax = plt.subplots()\n",
    "    ax.plot(years, temps, \"og\", alpha=0.5)\n",
    "    ax.bar(aves_year, aves, alpha=0.5, width=9.5, label=\"10 year average\")\n",
    "    ax.set_xlabel(\"year\")\n",
    "    ax.set_ylabel(\"temperature anomaly [deg C]\")\n",
    "    ax.legend()"
   ]
  },
  {
   "cell_type": "code",
   "execution_count": null,
   "id": "19fb17f0",
   "metadata": {},
   "outputs": [],
   "source": [
    "plot_anomaly1()\n",
    "plot_anomaly2()\n",
    "plot_anomaly3()"
   ]
  }
 ],
 "metadata": {
  "jupytext": {
   "cell_metadata_filter": "-all",
   "main_language": "python",
   "notebook_metadata_filter": "-all"
  }
 },
 "nbformat": 4,
 "nbformat_minor": 5
}
