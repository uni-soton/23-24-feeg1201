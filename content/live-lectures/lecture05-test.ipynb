{
 "cells": [
  {
   "cell_type": "code",
   "execution_count": null,
   "id": "b8ae6245",
   "metadata": {},
   "outputs": [],
   "source": [
    "\"\"\"\n",
    "Lecture 04, 30 October 2023\n",
    "\n",
    "Data engineering tasks\n",
    "======================\n",
    "\n",
    "- read NOAA data [1] on temperature anomaly from file\n",
    "- make numbers available in lists\n",
    "- display data in table\n",
    "- retrieve temperature deviation for a given year\n",
    "\n",
    "[1] https://www.ncei.noaa.gov/access/monitoring/climate-at-a-glance/global/time-series/globe/land_ocean/1/9/1850-2023/data.csv\n",
    "\n",
    "\"\"\""
   ]
  },
  {
   "cell_type": "code",
   "execution_count": null,
   "id": "de33a15c",
   "metadata": {},
   "outputs": [],
   "source": [
    "def plot_f(n_cols, xs, fs):\n",
    "    \"\"\"Plot f(x) in n_cols columns with one row\n",
    "    per entry in the lists. We assume the values\n",
    "    are equivally spaced in x-direction.\n",
    "    \"\"\"\n",
    "    # check that both lists have the same length\n",
    "    assert len(xs) == len(fs)\n",
    "    for i in range(len(xs)):\n",
    "        x = xs[i]\n",
    "        fx = fs[i]\n",
    "        # f(x) = -1  -> pos 0\n",
    "        # f(x) = +1  -> pos n_cols\n",
    "        max_fs = max(fs)\n",
    "        min_fs = min(fs)\n",
    "        pos = n_cols * (fx - min_fs) / (max_fs - min_fs)\n",
    "        # create string s to print later\n",
    "        s = int(pos) * \" \" + \"+\"\n",
    "        print(f\"{x}: \" + s)"
   ]
  },
  {
   "cell_type": "code",
   "execution_count": null,
   "id": "13b348bf",
   "metadata": {},
   "outputs": [],
   "source": [
    "def read_data(filename):\n",
    "    \"\"\"Read data from comma seperated value file with format\n",
    "    as the file from NOAA [1].\n",
    "\n",
    "    Returns two lists: one for years and one for temps.\n",
    "    \"\"\"\n",
    "    fh = open(filename, \"rt\")\n",
    "    lines = fh.readlines()\n",
    "    fh.close()\n",
    "\n",
    "    result_years = []\n",
    "    result_temps = []\n",
    "\n",
    "    for line in lines[6:]:\n",
    "        tmp = line.split(\",\")\n",
    "        year = int(tmp[0])\n",
    "        temp = float(tmp[1].rstrip())\n",
    "        result_years.append(year)\n",
    "        result_temps.append(temp)\n",
    "    return result_years, result_temps"
   ]
  },
  {
   "cell_type": "code",
   "execution_count": null,
   "id": "ec08a535",
   "metadata": {},
   "outputs": [],
   "source": [
    "def display_lists(list1, list2):\n",
    "    \"\"\"Given two lists of equil length, print a \n",
    "    table with the elements of the lists.\n",
    "    \"\"\"\n",
    "    assert len(list1) == len(list2)\n",
    "    for i in range(len(list1)):\n",
    "        item1 = list1[i]\n",
    "        item2 = list2[i]\n",
    "        print(f\"{item1} | {item2}\")"
   ]
  },
  {
   "cell_type": "code",
   "execution_count": null,
   "id": "33a979b7",
   "metadata": {
    "lines_to_next_cell": 2
   },
   "outputs": [],
   "source": [
    "def temperature_anomaly(year):\n",
    "    \"\"\"Given a year, return the temperature anomaly as specified\n",
    "    in  the data file [1].\n",
    "    \"\"\"\n",
    "    years, temps = read_data(\"data.csv\")\n",
    "    index = year - 1850\n",
    "    assert year == years[index]\n",
    "\n",
    "    return temps[index]"
   ]
  },
  {
   "cell_type": "markdown",
   "id": "6d9cde2e",
   "metadata": {
    "lines_to_next_cell": 2
   },
   "source": [
    "Examples how to call the functions"
   ]
  },
  {
   "cell_type": "code",
   "execution_count": null,
   "id": "d7b3753f",
   "metadata": {},
   "outputs": [],
   "source": [
    "years, temps = read_data(\"data.csv\")\n",
    "plot_f(40, years, temps)"
   ]
  },
  {
   "cell_type": "code",
   "execution_count": null,
   "id": "e705f7a2",
   "metadata": {
    "lines_to_next_cell": 2
   },
   "outputs": [],
   "source": [
    "print(f\"Anomaly for 1950 is {temperature_anomaly(1950)} degree Celsius.\")"
   ]
  },
  {
   "cell_type": "markdown",
   "id": "21dc1e43",
   "metadata": {},
   "source": [
    "display_lists(years, temps)"
   ]
  }
 ],
 "metadata": {
  "jupytext": {
   "cell_metadata_filter": "-all",
   "main_language": "python",
   "notebook_metadata_filter": "-all"
  }
 },
 "nbformat": 4,
 "nbformat_minor": 5
}
