{
 "cells": [
  {
   "cell_type": "code",
   "execution_count": null,
   "id": "a7806ab6",
   "metadata": {},
   "outputs": [],
   "source": [
    "def is_boiling_water(temperature):\n",
    "    \"\"\"Given `temperature` in degree Celsius, return True\n",
    "    if the temperature is equal to or greather than\n",
    "    100 deg C, return False otherwise.\n",
    "    \"\"\"\n",
    "    if temperature >= 100:\n",
    "        return True\n",
    "    else:\n",
    "        return False"
   ]
  },
  {
   "cell_type": "code",
   "execution_count": null,
   "id": "59561e77",
   "metadata": {},
   "outputs": [],
   "source": [
    "def temperature_colour(T):\n",
    "    \"\"\"Given a temperature 'T' in degree Celsius, return a string\n",
    "    defining the colour of a warning sign:\n",
    "    green is no danger, orange is in between, red is dangerous.\n",
    "    \"\"\"\n",
    "    # feels warm if touched\n",
    "    if T < 45:\n",
    "        colour = \"green\"\n",
    "    # feels painful if touched\n",
    "    elif T < 65:\n",
    "        colour = \"orange\"\n",
    "    else:  # T must be equal to or greater than 65\n",
    "        # causes burns if touched\n",
    "        colour = \"red\"\n",
    "\n",
    "    return colour"
   ]
  }
 ],
 "metadata": {
  "jupytext": {
   "cell_metadata_filter": "-all",
   "main_language": "python",
   "notebook_metadata_filter": "-all"
  }
 },
 "nbformat": 4,
 "nbformat_minor": 5
}
