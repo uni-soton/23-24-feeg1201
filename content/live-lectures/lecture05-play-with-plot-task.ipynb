{
 "cells": [
  {
   "cell_type": "code",
   "execution_count": null,
   "id": "919fff9e",
   "metadata": {},
   "outputs": [],
   "source": [
    "\"\"\"\n",
    "Write a python function `plot_sin()`\n",
    "which plots a sin wave f(x) = sin(x) like\n",
    "this (x going down, f(x) to the right):\n",
    "\n",
    "\n",
    "                                         +\n",
    "                                                 +\n",
    "                                                           +\n",
    "                                                                   +\n",
    "                                                                         +\n",
    "                                                                             +\n",
    "                                                                              +\n",
    "                                                                              +\n",
    "                                                                            +\n",
    "                                                                      +\n",
    "                                                               +\n",
    "                                                      +\n",
    "                                             +\n",
    "                                  +\n",
    "                         +\n",
    "                +\n",
    "         +\n",
    "   +\n",
    "+\n",
    "+\n",
    " +\n",
    "      +\n",
    "            +\n",
    "                    +\n",
    "                              +\n",
    "\"\"\"\n",
    "import math"
   ]
  },
  {
   "cell_type": "code",
   "execution_count": null,
   "id": "ce1252d3",
   "metadata": {},
   "outputs": [],
   "source": [
    "import matplotlib.pyplot as plt"
   ]
  },
  {
   "cell_type": "code",
   "execution_count": null,
   "id": "775ac0ed",
   "metadata": {},
   "outputs": [],
   "source": [
    "def plot_sin(n_rows, n_cols):\n",
    "    \"\"\"Plot sin wave f(x)=sin(x) in n_rows rows and n_cols columns.\n",
    "\n",
    "    Example: plot_sin(25, 50)\n",
    "    \"\"\"\n",
    "    for i in range(n_rows):\n",
    "        x = i / n_rows * 2 * math.pi\n",
    "        fx = math.sin(x)  # compute f(x)\n",
    "        # f(x) = -1  -> pos 0\n",
    "        # f(x) = +1  -> pos 80\n",
    "        pos = n_cols * (fx + 1) / 2\n",
    "        # create string s to print later\n",
    "        s = int(pos) * \" \" + \"+\"\n",
    "        print(s)"
   ]
  },
  {
   "cell_type": "code",
   "execution_count": null,
   "id": "e2b58b45",
   "metadata": {},
   "outputs": [],
   "source": [
    "def compute_sin(n):\n",
    "    \"\"\"Returns lists xs and fs=sin(xs) with n data points.\n",
    "    \"\"\"\n",
    "    results_xs = []\n",
    "    results_sin = []\n",
    "    for i in range(n):\n",
    "        x = i / n * 2 * math.pi\n",
    "        sin_x = 2*math.sin(x)  # compute f(x)\n",
    "        results_xs.append(x)\n",
    "        results_sin.append(sin_x)\n",
    "    return results_xs, results_sin"
   ]
  },
  {
   "cell_type": "code",
   "execution_count": null,
   "id": "d276e1e5",
   "metadata": {},
   "outputs": [],
   "source": [
    "def plot_f(n_cols, xs, fs):\n",
    "    \"\"\"Plot f(x) in n_cols columns.\n",
    "    Expects two lists xs and fs with x-values and function values,\n",
    "    respectively. Lists need to have same length.\n",
    "    \"\"\"\n",
    "    # check that both lists have the same length\n",
    "    assert len(xs) == len(fs)\n",
    "    for i in range(len(xs)):\n",
    "        x = xs[i]\n",
    "        fx = fs[i]\n",
    "        # f(x) = -1  -> pos 0\n",
    "        # f(x) = +1  -> pos n_cols\n",
    "        max_fs = max(fs)\n",
    "        min_fs = min(fs)\n",
    "        pos = n_cols * (fx - min_fs) / (max_fs - min_fs)\n",
    "        # create string s to print later\n",
    "        s = int(pos) * \" \" + \"+\"\n",
    "        print(f\"{x:7f}: \" + s)"
   ]
  },
  {
   "cell_type": "code",
   "execution_count": null,
   "id": "20282480",
   "metadata": {},
   "outputs": [],
   "source": []
  },
  {
   "cell_type": "code",
   "execution_count": null,
   "id": "793fe317",
   "metadata": {},
   "outputs": [],
   "source": [
    "# compute data for sine wave\n",
    "my_xs, my_fs = compute_sin(20)"
   ]
  },
  {
   "cell_type": "code",
   "execution_count": null,
   "id": "9a2b4c46",
   "metadata": {
    "lines_to_next_cell": 2
   },
   "outputs": [],
   "source": [
    "fig, ax = plt.subplots()\n",
    "ax.plot(my_xs, my_fs, 'o-g')\n",
    "ax.set_xlabel(\"x\")\n",
    "ax.set_ylabel(\"y\")\n",
    "ax.set_title(\"My first plot\")\n",
    "# ax.set_x"
   ]
  },
  {
   "cell_type": "markdown",
   "id": "229e2e92",
   "metadata": {},
   "source": [
    "plt.close('all')"
   ]
  },
  {
   "cell_type": "code",
   "execution_count": null,
   "id": "921dc540",
   "metadata": {
    "lines_to_next_cell": 2
   },
   "outputs": [],
   "source": []
  },
  {
   "cell_type": "markdown",
   "id": "9c1e2de2",
   "metadata": {},
   "source": [
    "plot the data\n",
    "plot_f(n_cols=40, xs=my_xs, fs=my_fs)"
   ]
  }
 ],
 "metadata": {
  "jupytext": {
   "cell_metadata_filter": "-all",
   "main_language": "python",
   "notebook_metadata_filter": "-all"
  }
 },
 "nbformat": 4,
 "nbformat_minor": 5
}
