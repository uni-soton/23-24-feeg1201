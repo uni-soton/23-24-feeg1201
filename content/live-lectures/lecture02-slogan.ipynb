{
 "cells": [
  {
   "cell_type": "code",
   "execution_count": null,
   "id": "e405be7c",
   "metadata": {
    "lines_to_next_cell": 0
   },
   "outputs": [],
   "source": []
  },
  {
   "cell_type": "code",
   "execution_count": null,
   "id": "6f210dfe",
   "metadata": {},
   "outputs": [],
   "source": [
    "\"\"\" Our task:\n",
    "\n",
    "Hypothetical scenario:\n",
    "\n",
    "We are software engineers and acting on behalf of an advertising\n",
    "agency. Our task is to compute the cost to print a slogan onto a\n",
    "large billboard. The companies owners tell us that the cost is\n",
    "computed as the daily rate (that's a number, for example 10 GBP)\n",
    "times the square of the number of vowels in the slogan.\n",
    "\n",
    "For example: in the slogan \"Just do it\", we have 3 vowels ('u',\n",
    "'o' and 'i'), so the cost would be 10 GBP * (3*3) = 90 GBP.\n",
    "\"\"\""
   ]
  },
  {
   "cell_type": "code",
   "execution_count": null,
   "id": "038994f8",
   "metadata": {},
   "outputs": [],
   "source": [
    "def count_vowels(s):\n",
    "    \"\"\"Return the number of vowels in string s.\"\"\"\n",
    "    s_lower = s.lower()\n",
    "    a = s_lower.count(\"a\")\n",
    "    e = s_lower.count(\"e\")\n",
    "    i = s_lower.count(\"i\")\n",
    "    o = s_lower.count(\"o\")\n",
    "    u = s_lower.count(\"u\")\n",
    "    return a + e + i + o + u"
   ]
  },
  {
   "cell_type": "code",
   "execution_count": null,
   "id": "2d93e967",
   "metadata": {},
   "outputs": [],
   "source": [
    "def square(x):\n",
    "    \"\"\"Given x, return x*x.\"\"\"\n",
    "    return x * x"
   ]
  },
  {
   "cell_type": "code",
   "execution_count": null,
   "id": "7281bdd3",
   "metadata": {},
   "outputs": [],
   "source": [
    "def compute_cost(slogan, daily_rate):\n",
    "    \"\"\"Compute and return the cost of string 'slogan' for 'daily_rate'...\n",
    "    \"\"\"\n",
    "    return daily_rate * square(count_vowels(slogan))"
   ]
  },
  {
   "cell_type": "code",
   "execution_count": null,
   "id": "31d7a7ed",
   "metadata": {},
   "outputs": [],
   "source": [
    "print(compute_cost(\"Python is awesome\", 20))\n",
    "print(compute_cost(\"Just do it\", 10))"
   ]
  }
 ],
 "metadata": {
  "jupytext": {
   "cell_metadata_filter": "-all",
   "main_language": "python",
   "notebook_metadata_filter": "-all"
  }
 },
 "nbformat": 4,
 "nbformat_minor": 5
}
