{
 "cells": [
  {
   "cell_type": "code",
   "execution_count": null,
   "id": "72a8267c",
   "metadata": {},
   "outputs": [],
   "source": [
    "\"\"\"\n",
    "Created on Mon Nov 13 11:42:47 2023\n",
    "\n",
    "@author: feeg1201\n",
    "\"\"\"\n",
    "\n"
   ]
  },
  {
   "cell_type": "code",
   "execution_count": null,
   "id": "111d77f7",
   "metadata": {},
   "outputs": [],
   "source": [
    "\n",
    "print(\"Cell 1, setting a = 0\")\n",
    "a = 0\n",
    "\n",
    "# %%=\n",
    "\n",
    "a = a + 1\n",
    "print(f\"Cell 2, a = {a}\")"
   ]
  },
  {
   "cell_type": "code",
   "execution_count": null,
   "id": "4907da50",
   "metadata": {},
   "outputs": [],
   "source": [
    "\n",
    "print(f\"Cell 3, a = {a}\")"
   ]
  }
 ],
 "metadata": {
  "jupytext": {
   "cell_metadata_filter": "-all",
   "encoding": "# -*- coding: utf-8 -*-",
   "executable": "/usr/bin/env python3",
   "main_language": "python",
   "notebook_metadata_filter": "-all"
  }
 },
 "nbformat": 4,
 "nbformat_minor": 5
}
