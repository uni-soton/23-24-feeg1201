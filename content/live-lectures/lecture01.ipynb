{
 "cells": [
  {
   "cell_type": "code",
   "execution_count": null,
   "id": "be8df60f",
   "metadata": {},
   "outputs": [],
   "source": [
    "def mega_hello():\n",
    "    \"\"\"Print many hellos to standard output.\"\"\"\n",
    "    print(\"Hello World\")\n",
    "    print(\"Hello World 2\")\n",
    "    print(\"Hello World aoeu\")\n",
    "    print(\"Hello World bbb\")\n",
    "    print(\"Hello World last\")"
   ]
  },
  {
   "cell_type": "code",
   "execution_count": null,
   "id": "a59325d6",
   "metadata": {},
   "outputs": [],
   "source": [
    "def area_triangle(base, height):\n",
    "    \"\"\"Given lengths base and height of a triangle,\n",
    "    compute and return the triangle area.\"\"\"\n",
    "    area = 0.5 * base * height\n",
    "    return area"
   ]
  },
  {
   "cell_type": "code",
   "execution_count": null,
   "id": "a7d516b2",
   "metadata": {},
   "outputs": [],
   "source": [
    "def mysum(a, b):\n",
    "    \"\"\"\n",
    "    Compute and return sum of a and b.\n",
    "\n",
    "    Parameters\n",
    "    ----------\n",
    "    a : numeric\n",
    "        Part of the sum.\n",
    "    b : numeric\n",
    "        Part of the sum.\n",
    "\n",
    "    Returns\n",
    "    -------\n",
    "\n",
    "    numeric\n",
    "        Sum of a and b.\n",
    "\n",
    "    \"\"\"\n",
    "    return a + b"
   ]
  }
 ],
 "metadata": {
  "jupytext": {
   "cell_metadata_filter": "-all",
   "main_language": "python",
   "notebook_metadata_filter": "-all"
  }
 },
 "nbformat": 4,
 "nbformat_minor": 5
}
