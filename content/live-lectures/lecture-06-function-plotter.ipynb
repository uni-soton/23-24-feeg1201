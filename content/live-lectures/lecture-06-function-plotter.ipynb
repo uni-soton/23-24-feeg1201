{
 "cells": [
  {
   "cell_type": "code",
   "execution_count": null,
   "id": "e48300ad",
   "metadata": {},
   "outputs": [],
   "source": [
    "\"\"\"Example for Lecture 06: function plotter.\"\"\"\n",
    "import math\n",
    "import matplotlib.pyplot as plt\n",
    "import numpy as np\n",
    "\n",
    "\n",
    "def func_plotter(f, xmin, xmax, n_values):\n",
    "    \"\"\"Plot function f(x).\n",
    "\n",
    "    Given a callable f, minimum (xmin) and maximum (xmax) values, and the\n",
    "    number n_values of points to plot, plot a graph of f(x) where x starts\n",
    "    at xmin and ranges up to and including xmax.\n",
    "    \"\"\"\n",
    "    delta_x = (xmax - xmin)/(n_values-1)\n",
    "    xs = [i*delta_x + xmin for i in range(n_values)]\n",
    "    ys = [f(x) for x in xs]\n",
    "    fig, ax = plt.subplots()\n",
    "    ax.plot(xs, ys, '-o')\n",
    "    ax.set_xlabel('x')\n",
    "    ax.set_ylabel(f.__name__)\n",
    "    return fig, ax"
   ]
  },
  {
   "cell_type": "code",
   "execution_count": null,
   "id": "c586cec3",
   "metadata": {},
   "outputs": [],
   "source": [
    "\n",
    "\n",
    "def func_plotter_np(f, xmin, xmax, n_values):\n",
    "    \"\"\"Plot function f(x).\n",
    "\n",
    "    Given a callable f, minimum (xmin) and maximum (xmax) values, and the\n",
    "    number n_values of points to plot, plot a graph of f(x) where x starts\n",
    "    at xmin and ranges up to and including xmax.\n",
    "    \"\"\"\n",
    "    xs = np.linspace(xmin, xmax, n_values)\n",
    "    ys = f(xs)\n",
    "\n",
    "    fig, ax = plt.subplots()\n",
    "    ax.plot(xs, ys, '-o')\n",
    "    ax.set_xlabel('x')\n",
    "    ax.set_ylabel(f.__name__)\n",
    "    return fig, ax\n",
    "\n",
    "\n",
    "def my_function(x):\n",
    "    \"\"\"Demo function.\"\"\"\n",
    "    return np.sin(x*5) * np.exp(-x/2)"
   ]
  },
  {
   "cell_type": "code",
   "execution_count": null,
   "id": "dee430ca",
   "metadata": {},
   "outputs": [],
   "source": [
    "\n",
    "func_plotter_np(np.sin, 0, 2*3.14, 10)"
   ]
  },
  {
   "cell_type": "code",
   "execution_count": null,
   "id": "2dbaa5cf",
   "metadata": {
    "lines_to_next_cell": 2
   },
   "outputs": [],
   "source": [
    "\n",
    "func_plotter(math.sin, 0, 2*3.14, 10)"
   ]
  },
  {
   "cell_type": "code",
   "execution_count": null,
   "id": "fa9df41a",
   "metadata": {},
   "outputs": [],
   "source": [
    "\n",
    "func_plotter_np(my_function, 0, 10, 1000)"
   ]
  }
 ],
 "metadata": {
  "jupytext": {
   "cell_metadata_filter": "-all",
   "main_language": "python",
   "notebook_metadata_filter": "-all"
  }
 },
 "nbformat": 4,
 "nbformat_minor": 5
}
