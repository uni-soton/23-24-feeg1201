{
 "cells": [
  {
   "cell_type": "code",
   "execution_count": null,
   "id": "f95cbaed",
   "metadata": {},
   "outputs": [],
   "source": [
    "\"\"\"\n",
    "Write a python function `plot_sin()`\n",
    "which plots a sin wave f(x) = sin(x) like\n",
    "this (x going down, f(x) to the right):\n",
    "\n",
    "\n",
    "                                         +\n",
    "                                                 +\n",
    "                                                           +\n",
    "                                                                   +\n",
    "                                                                         +\n",
    "                                                                              +\n",
    "                                                                               +\n",
    "                                                                               +\n",
    "                                                                            +\n",
    "                                                                      +\n",
    "                                                               +\n",
    "                                                      +\n",
    "                                             +\n",
    "                                  +\n",
    "                         +\n",
    "                +\n",
    "         +\n",
    "   +\n",
    "+\n",
    "+\n",
    " +\n",
    "      +\n",
    "            +\n",
    "                    +\n",
    "                              +\n",
    "\"\"\"\n",
    "import math"
   ]
  },
  {
   "cell_type": "code",
   "execution_count": null,
   "id": "bb7fe515",
   "metadata": {},
   "outputs": [],
   "source": [
    "def plot_sin(n_rows, n_cols):\n",
    "    \"\"\"Plot sin wave f(x)=sin(x) in n_rows rows and n_cols columns.\n",
    "\n",
    "    Example: plot_sin(25, 50)\n",
    "    \"\"\"\n",
    "    for i in range(n_rows):\n",
    "        x = i / n_rows * 2 * math.pi\n",
    "        fx = math.sin(x)  # compute f(x)\n",
    "        # f(x) = -1  -> pos 0\n",
    "        # f(x) = +1  -> pos 80\n",
    "        pos = n_cols * (fx + 1) / 2\n",
    "        # create string s to print later\n",
    "        s = int(pos) * \" \" + \"+\"\n",
    "        print(s)"
   ]
  },
  {
   "cell_type": "code",
   "execution_count": null,
   "id": "f63db878",
   "metadata": {},
   "outputs": [],
   "source": [
    "plot_sin(25, 30)"
   ]
  }
 ],
 "metadata": {
  "jupytext": {
   "cell_metadata_filter": "-all",
   "main_language": "python",
   "notebook_metadata_filter": "-all"
  }
 },
 "nbformat": 4,
 "nbformat_minor": 5
}
