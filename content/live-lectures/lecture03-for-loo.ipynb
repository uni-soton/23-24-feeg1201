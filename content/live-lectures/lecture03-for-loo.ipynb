{
 "cells": [
  {
   "cell_type": "code",
   "execution_count": null,
   "id": "75707d42",
   "metadata": {},
   "outputs": [],
   "source": [
    "def mysum1(n):\n",
    "    \"\"\"Given a natural number n > 0,\n",
    "    compute the sum of numbers from i=0\n",
    "    up to and including i=n.\n",
    "    \"\"\"\n",
    "    s = 0  # store my sum here\n",
    "\n",
    "    # loop over i, starting from i=1, ending with i=n:\n",
    "    for i in range(1, n + 1):\n",
    "        s = s + i\n",
    "    return s"
   ]
  },
  {
   "cell_type": "code",
   "execution_count": null,
   "id": "558dc44c",
   "metadata": {},
   "outputs": [],
   "source": [
    "print(\"mysum1(3) is\", mysum1(3))"
   ]
  }
 ],
 "metadata": {
  "jupytext": {
   "cell_metadata_filter": "-all",
   "main_language": "python",
   "notebook_metadata_filter": "-all"
  }
 },
 "nbformat": 4,
 "nbformat_minor": 5
}
